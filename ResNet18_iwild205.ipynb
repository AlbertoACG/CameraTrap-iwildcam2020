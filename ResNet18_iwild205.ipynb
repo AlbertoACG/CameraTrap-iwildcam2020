{
 "cells": [
  {
   "cell_type": "code",
   "execution_count": 1,
   "metadata": {},
   "outputs": [
    {
     "name": "stderr",
     "output_type": "stream",
     "text": [
      "Using TensorFlow backend.\n"
     ]
    }
   ],
   "source": [
    "import os\n",
    "\n",
    "import keras\n",
    "\n",
    "from classification_models.keras import Classifiers\n",
    "from keras.preprocessing.image import ImageDataGenerator\n",
    "from keras.layers import GlobalAveragePooling2D, Dense\n",
    "from keras.models import Model\n",
    "from keras.callbacks import ModelCheckpoint, CSVLogger, LearningRateScheduler\n",
    "from keras.metrics import top_k_categorical_accuracy\n",
    "from keras.optimizers import SGD"
   ]
  },
  {
   "cell_type": "markdown",
   "metadata": {},
   "source": [
    "### Configurações de treino"
   ]
  },
  {
   "cell_type": "code",
   "execution_count": 2,
   "metadata": {},
   "outputs": [],
   "source": [
    "def tl_scheduler(epoch):\n",
    "    if epoch < 6:\n",
    "        return 0.005\n",
    "    elif epoch < 11:\n",
    "        return 0.001\n",
    "    elif epoch < 21:\n",
    "        return 0.005\n",
    "    elif epoch < 28:\n",
    "        return 0.001\n",
    "    elif epoch < 36:\n",
    "        return 0.0005\n",
    "    else:\n",
    "        return 0.0001\n"
   ]
  },
  {
   "cell_type": "code",
   "execution_count": 3,
   "metadata": {},
   "outputs": [],
   "source": [
    "training_config = {\n",
    "    'batch_size': 128,\n",
    "    'target_size': (224,224),\n",
    "    'epochs': 55,\n",
    "    'lr': 0.005,\n",
    "    'decay': 0,\n",
    "    'seed': 42\n",
    "}"
   ]
  },
  {
   "cell_type": "markdown",
   "metadata": {},
   "source": [
    "### Carregando Dataset"
   ]
  },
  {
   "cell_type": "code",
   "execution_count": 4,
   "metadata": {},
   "outputs": [],
   "source": [
    "experiments_path = '/data/alberto/iWildCam2020/experiments'\n",
    "experiment = 'resnet18_iwild205_21042020'"
   ]
  },
  {
   "cell_type": "code",
   "execution_count": 5,
   "metadata": {},
   "outputs": [],
   "source": [
    "train_dir = '/data/alberto/iWildCam2020/resized/train_resized'\n",
    "validation_dir = '/data/alberto/iWildCam2020/resized/validation_resized'"
   ]
  },
  {
   "cell_type": "code",
   "execution_count": 6,
   "metadata": {},
   "outputs": [
    {
     "name": "stdout",
     "output_type": "stream",
     "text": [
      "Found 203689 images belonging to 3 classes.\n",
      "Found 56736 images belonging to 3 classes.\n"
     ]
    }
   ],
   "source": [
    "train_datagen = ImageDataGenerator(rotation_range=20,\n",
    "                                   zoom_range=0.15,\n",
    "                                   width_shift_range=0.2,\n",
    "                                   height_shift_range=0.2,\n",
    "                                   shear_range=0.15,\n",
    "                                   horizontal_flip=True,\n",
    "                                   fill_mode=\"nearest\")\n",
    "\n",
    "validation_datagen = ImageDataGenerator()\n",
    "\n",
    "train_generator = train_datagen.flow_from_directory(\n",
    "        train_dir,\n",
    "        target_size=training_config['target_size'],\n",
    "        batch_size=training_config['batch_size'],\n",
    "        class_mode='categorical',\n",
    "        shuffle=True,\n",
    "        seed=training_config['seed'])\n",
    "\n",
    "validation_generator = validation_datagen.flow_from_directory(\n",
    "        validation_dir,\n",
    "        target_size=training_config['target_size'],\n",
    "        batch_size=training_config['batch_size'],\n",
    "        class_mode='categorical',\n",
    "        classes=sorted(list(train_generator.class_indices.keys())))"
   ]
  },
  {
   "cell_type": "markdown",
   "metadata": {},
   "source": [
    "### Calbacks"
   ]
  },
  {
   "cell_type": "code",
   "execution_count": 7,
   "metadata": {},
   "outputs": [],
   "source": [
    "model_path = os.path.join(experiments_path, experiment, 'models', 'weights.{epoch:02d}-{val_accuracy:.2f}.hdf5')\n",
    "if not os.path.exists(os.path.dirname(model_path)):\n",
    "    os.makedirs(os.path.dirname(model_path))\n",
    "\n",
    "checkpoint = ModelCheckpoint(\n",
    "    filepath=model_path,\n",
    "    monitor='val_accuracy'\n",
    ")\n",
    "\n",
    "checkpoint_best = ModelCheckpoint(\n",
    "    filepath=os.path.join(experiments_path, experiment, 'models', 'best.hdf5'),\n",
    "    save_best_only=True,\n",
    "    monitor='val_accuracy'\n",
    ")\n",
    "\n",
    "csv_path = os.path.join(experiments_path, experiment, 'history', 'training.log')\n",
    "if not os.path.exists(os.path.dirname(csv_path)):\n",
    "    os.makedirs(os.path.dirname(csv_path))\n",
    "\n",
    "csv_logger = CSVLogger(csv_path, append=True)\n",
    "\n",
    "lr_scheduler = LearningRateScheduler(tl_scheduler)"
   ]
  },
  {
   "cell_type": "code",
   "execution_count": 8,
   "metadata": {},
   "outputs": [],
   "source": [
    "callbacks = [checkpoint, checkpoint_best, csv_logger, lr_scheduler]"
   ]
  },
  {
   "cell_type": "markdown",
   "metadata": {},
   "source": [
    "### Definindo Métricas"
   ]
  },
  {
   "cell_type": "code",
   "execution_count": 9,
   "metadata": {},
   "outputs": [],
   "source": [
    "def top_5_accuracy(y_true, y_pred):\n",
    "    return top_k_categorical_accuracy(y_true, y_pred, k=5)"
   ]
  },
  {
   "cell_type": "markdown",
   "metadata": {},
   "source": [
    "### Preparando modelo "
   ]
  },
  {
   "cell_type": "code",
   "execution_count": 10,
   "metadata": {},
   "outputs": [],
   "source": [
    "ResNet18, preprocess_input = Classifiers.get('resnet18')"
   ]
  },
  {
   "cell_type": "code",
   "execution_count": 11,
   "metadata": {},
   "outputs": [],
   "source": [
    "base_model = ResNet18(input_shape=(224,224,3), weights='imagenet', include_top=False)\n",
    "x = GlobalAveragePooling2D()(base_model.output)\n",
    "output = Dense(len(validation_generator.class_indices), activation='softmax')(x)\n",
    "model = Model(inputs=[base_model.input], outputs=[output])"
   ]
  },
  {
   "cell_type": "code",
   "execution_count": 12,
   "metadata": {},
   "outputs": [],
   "source": [
    "for layer in model.layers:\n",
    "    layer.trainable = True"
   ]
  },
  {
   "cell_type": "code",
   "execution_count": 13,
   "metadata": {},
   "outputs": [],
   "source": [
    "optimizer = SGD(lr=training_config['lr'], momentum=0.9, decay=0)"
   ]
  },
  {
   "cell_type": "code",
   "execution_count": 14,
   "metadata": {},
   "outputs": [],
   "source": [
    "model.compile(optimizer=optimizer, loss='categorical_crossentropy', metrics=['accuracy', top_5_accuracy])"
   ]
  },
  {
   "cell_type": "code",
   "execution_count": 15,
   "metadata": {},
   "outputs": [],
   "source": [
    "current_epoch = 0"
   ]
  },
  {
   "cell_type": "markdown",
   "metadata": {},
   "source": [
    "### Treinando modelo"
   ]
  },
  {
   "cell_type": "code",
   "execution_count": 16,
   "metadata": {},
   "outputs": [
    {
     "name": "stdout",
     "output_type": "stream",
     "text": [
      "Epoch 1/55\n",
      "1591/1591 [==============================] - 1180s 742ms/step - loss: 0.1069 - accuracy: 0.9642 - top_5_accuracy: 1.0000 - val_loss: 0.0799 - val_accuracy: 0.9589 - val_top_5_accuracy: 1.0000\n",
      "Epoch 2/55\n",
      "1591/1591 [==============================] - 838s 527ms/step - loss: 0.0754 - accuracy: 0.9740 - top_5_accuracy: 1.0000 - val_loss: 0.1423 - val_accuracy: 0.9561 - val_top_5_accuracy: 1.0000\n",
      "Epoch 3/55\n",
      "1591/1591 [==============================] - 838s 527ms/step - loss: 0.0645 - accuracy: 0.9767 - top_5_accuracy: 1.0000 - val_loss: 0.1423 - val_accuracy: 0.9726 - val_top_5_accuracy: 1.0000\n",
      "Epoch 4/55\n",
      "1591/1591 [==============================] - 838s 527ms/step - loss: 0.0560 - accuracy: 0.9794 - top_5_accuracy: 1.0000 - val_loss: 0.1298 - val_accuracy: 0.9683 - val_top_5_accuracy: 1.0000\n",
      "Epoch 5/55\n",
      "1591/1591 [==============================] - 838s 527ms/step - loss: 0.0493 - accuracy: 0.9813 - top_5_accuracy: 1.0000 - val_loss: 0.0775 - val_accuracy: 0.9725 - val_top_5_accuracy: 1.0000\n",
      "Epoch 6/55\n",
      "1591/1591 [==============================] - 839s 527ms/step - loss: 0.0460 - accuracy: 0.9828 - top_5_accuracy: 1.0000 - val_loss: 0.0836 - val_accuracy: 0.9713 - val_top_5_accuracy: 1.0000\n",
      "Epoch 7/55\n",
      "1591/1591 [==============================] - 839s 527ms/step - loss: 0.0364 - accuracy: 0.9863 - top_5_accuracy: 1.0000 - val_loss: 0.0348 - val_accuracy: 0.9776 - val_top_5_accuracy: 1.0000\n",
      "Epoch 8/55\n",
      "1591/1591 [==============================] - 839s 527ms/step - loss: 0.0343 - accuracy: 0.9871 - top_5_accuracy: 1.0000 - val_loss: 0.0153 - val_accuracy: 0.9791 - val_top_5_accuracy: 1.0000\n",
      "Epoch 9/55\n",
      "1591/1591 [==============================] - 838s 527ms/step - loss: 0.0326 - accuracy: 0.9877 - top_5_accuracy: 1.0000 - val_loss: 0.1215 - val_accuracy: 0.9784 - val_top_5_accuracy: 1.0000\n",
      "Epoch 10/55\n",
      "1591/1591 [==============================] - 838s 527ms/step - loss: 0.0324 - accuracy: 0.9877 - top_5_accuracy: 1.0000 - val_loss: 0.0359 - val_accuracy: 0.9798 - val_top_5_accuracy: 1.0000\n",
      "Epoch 11/55\n",
      "1591/1591 [==============================] - 839s 527ms/step - loss: 0.0315 - accuracy: 0.9879 - top_5_accuracy: 1.0000 - val_loss: 0.1823 - val_accuracy: 0.9793 - val_top_5_accuracy: 1.0000\n",
      "Epoch 12/55\n",
      "1591/1591 [==============================] - 839s 527ms/step - loss: 0.0381 - accuracy: 0.9854 - top_5_accuracy: 1.0000 - val_loss: 0.0647 - val_accuracy: 0.9771 - val_top_5_accuracy: 1.0000\n",
      "Epoch 13/55\n",
      "1591/1591 [==============================] - 839s 527ms/step - loss: 0.0368 - accuracy: 0.9861 - top_5_accuracy: 1.0000 - val_loss: 0.0872 - val_accuracy: 0.9723 - val_top_5_accuracy: 1.0000\n",
      "Epoch 14/55\n",
      "1591/1591 [==============================] - 839s 527ms/step - loss: 0.0352 - accuracy: 0.9866 - top_5_accuracy: 1.0000 - val_loss: 0.1026 - val_accuracy: 0.9768 - val_top_5_accuracy: 1.0000\n",
      "Epoch 15/55\n",
      "1591/1591 [==============================] - 839s 527ms/step - loss: 0.0340 - accuracy: 0.9870 - top_5_accuracy: 1.0000 - val_loss: 0.0326 - val_accuracy: 0.9793 - val_top_5_accuracy: 1.0000\n",
      "Epoch 16/55\n",
      "1591/1591 [==============================] - 839s 528ms/step - loss: 0.0328 - accuracy: 0.9874 - top_5_accuracy: 1.0000 - val_loss: 0.0157 - val_accuracy: 0.9808 - val_top_5_accuracy: 1.0000\n",
      "Epoch 17/55\n",
      "1591/1591 [==============================] - 839s 527ms/step - loss: 0.0309 - accuracy: 0.9881 - top_5_accuracy: 1.0000 - val_loss: 0.1634 - val_accuracy: 0.9796 - val_top_5_accuracy: 1.0000\n",
      "Epoch 18/55\n",
      "1591/1591 [==============================] - 838s 527ms/step - loss: 0.0301 - accuracy: 0.9884 - top_5_accuracy: 1.0000 - val_loss: 0.0352 - val_accuracy: 0.9778 - val_top_5_accuracy: 1.0000\n",
      "Epoch 19/55\n",
      "1591/1591 [==============================] - 839s 527ms/step - loss: 0.0290 - accuracy: 0.9887 - top_5_accuracy: 1.0000 - val_loss: 0.0384 - val_accuracy: 0.9805 - val_top_5_accuracy: 1.0000\n",
      "Epoch 20/55\n",
      "1591/1591 [==============================] - 839s 527ms/step - loss: 0.0281 - accuracy: 0.9890 - top_5_accuracy: 1.0000 - val_loss: 0.0238 - val_accuracy: 0.9768 - val_top_5_accuracy: 1.0000\n",
      "Epoch 21/55\n",
      "1591/1591 [==============================] - 839s 527ms/step - loss: 0.0270 - accuracy: 0.9895 - top_5_accuracy: 1.0000 - val_loss: 0.0950 - val_accuracy: 0.9833 - val_top_5_accuracy: 1.0000\n",
      "Epoch 22/55\n",
      "1591/1591 [==============================] - 839s 527ms/step - loss: 0.0224 - accuracy: 0.9913 - top_5_accuracy: 1.0000 - val_loss: 0.0396 - val_accuracy: 0.9828 - val_top_5_accuracy: 1.0000\n",
      "Epoch 23/55\n",
      "1591/1591 [==============================] - 839s 527ms/step - loss: 0.0207 - accuracy: 0.9917 - top_5_accuracy: 1.0000 - val_loss: 0.1649 - val_accuracy: 0.9841 - val_top_5_accuracy: 1.0000\n",
      "Epoch 24/55\n",
      "1591/1591 [==============================] - 839s 527ms/step - loss: 0.0201 - accuracy: 0.9920 - top_5_accuracy: 1.0000 - val_loss: 0.0322 - val_accuracy: 0.9842 - val_top_5_accuracy: 1.0000\n",
      "Epoch 25/55\n",
      "1591/1591 [==============================] - 839s 527ms/step - loss: 0.0197 - accuracy: 0.9922 - top_5_accuracy: 1.0000 - val_loss: 0.0021 - val_accuracy: 0.9848 - val_top_5_accuracy: 1.0000\n",
      "Epoch 26/55\n",
      "1591/1591 [==============================] - 839s 527ms/step - loss: 0.0195 - accuracy: 0.9923 - top_5_accuracy: 1.0000 - val_loss: 0.0397 - val_accuracy: 0.9836 - val_top_5_accuracy: 1.0000\n",
      "Epoch 27/55\n",
      "1591/1591 [==============================] - 839s 528ms/step - loss: 0.0189 - accuracy: 0.9924 - top_5_accuracy: 1.0000 - val_loss: 0.1259 - val_accuracy: 0.9831 - val_top_5_accuracy: 1.0000\n",
      "Epoch 28/55\n",
      "1591/1591 [==============================] - 840s 528ms/step - loss: 0.0187 - accuracy: 0.9925 - top_5_accuracy: 1.0000 - val_loss: 0.0105 - val_accuracy: 0.9844 - val_top_5_accuracy: 1.0000\n",
      "Epoch 29/55\n",
      "1591/1591 [==============================] - 839s 527ms/step - loss: 0.0185 - accuracy: 0.9926 - top_5_accuracy: 1.0000 - val_loss: 0.0634 - val_accuracy: 0.9845 - val_top_5_accuracy: 1.0000\n",
      "Epoch 30/55\n",
      "1591/1591 [==============================] - 839s 527ms/step - loss: 0.0180 - accuracy: 0.9928 - top_5_accuracy: 1.0000 - val_loss: 0.1931 - val_accuracy: 0.9851 - val_top_5_accuracy: 1.0000\n",
      "Epoch 31/55\n",
      "1591/1591 [==============================] - 839s 527ms/step - loss: 0.0178 - accuracy: 0.9930 - top_5_accuracy: 1.0000 - val_loss: 0.0302 - val_accuracy: 0.9853 - val_top_5_accuracy: 1.0000\n",
      "Epoch 32/55\n",
      "1591/1591 [==============================] - 839s 527ms/step - loss: 0.0174 - accuracy: 0.9931 - top_5_accuracy: 1.0000 - val_loss: 0.0347 - val_accuracy: 0.9848 - val_top_5_accuracy: 1.0000\n",
      "Epoch 33/55\n",
      "1591/1591 [==============================] - 839s 527ms/step - loss: 0.0172 - accuracy: 0.9932 - top_5_accuracy: 1.0000 - val_loss: 0.0582 - val_accuracy: 0.9846 - val_top_5_accuracy: 1.0000\n",
      "Epoch 34/55\n",
      "1591/1591 [==============================] - 839s 527ms/step - loss: 0.0175 - accuracy: 0.9931 - top_5_accuracy: 1.0000 - val_loss: 0.0879 - val_accuracy: 0.9852 - val_top_5_accuracy: 1.0000\n",
      "Epoch 35/55\n",
      "1591/1591 [==============================] - 840s 528ms/step - loss: 0.0178 - accuracy: 0.9929 - top_5_accuracy: 1.0000 - val_loss: 0.1240 - val_accuracy: 0.9846 - val_top_5_accuracy: 1.0000\n",
      "Epoch 36/55\n",
      "1591/1591 [==============================] - 839s 527ms/step - loss: 0.0170 - accuracy: 0.9932 - top_5_accuracy: 1.0000 - val_loss: 0.0813 - val_accuracy: 0.9842 - val_top_5_accuracy: 1.0000\n",
      "Epoch 37/55\n",
      "1591/1591 [==============================] - 839s 527ms/step - loss: 0.0165 - accuracy: 0.9934 - top_5_accuracy: 1.0000 - val_loss: 0.1753 - val_accuracy: 0.9847 - val_top_5_accuracy: 1.0000\n",
      "Epoch 38/55\n",
      "1591/1591 [==============================] - 839s 528ms/step - loss: 0.0167 - accuracy: 0.9935 - top_5_accuracy: 1.0000 - val_loss: 0.1046 - val_accuracy: 0.9848 - val_top_5_accuracy: 1.0000\n",
      "Epoch 39/55\n",
      "1591/1591 [==============================] - 839s 527ms/step - loss: 0.0164 - accuracy: 0.9933 - top_5_accuracy: 1.0000 - val_loss: 0.0331 - val_accuracy: 0.9852 - val_top_5_accuracy: 1.0000\n",
      "Epoch 40/55\n",
      "1591/1591 [==============================] - 840s 528ms/step - loss: 0.0164 - accuracy: 0.9935 - top_5_accuracy: 1.0000 - val_loss: 0.0384 - val_accuracy: 0.9847 - val_top_5_accuracy: 1.0000\n",
      "Epoch 41/55\n",
      "1591/1591 [==============================] - 839s 528ms/step - loss: 0.0163 - accuracy: 0.9934 - top_5_accuracy: 1.0000 - val_loss: 0.0074 - val_accuracy: 0.9850 - val_top_5_accuracy: 1.0000\n",
      "Epoch 42/55\n",
      "1591/1591 [==============================] - 839s 528ms/step - loss: 0.0166 - accuracy: 0.9934 - top_5_accuracy: 1.0000 - val_loss: 0.1327 - val_accuracy: 0.9842 - val_top_5_accuracy: 1.0000\n",
      "Epoch 43/55\n",
      "1406/1591 [=========================>....] - ETA: 1:27 - loss: 0.0164 - accuracy: 0.9936 - top_5_accuracy: 1.0000"
     ]
    },
    {
     "name": "stderr",
     "output_type": "stream",
     "text": [
      "IOPub message rate exceeded.\n",
      "The notebook server will temporarily stop sending output\n",
      "to the client in order to avoid crashing it.\n",
      "To change this limit, set the config variable\n",
      "`--NotebookApp.iopub_msg_rate_limit`.\n",
      "\n",
      "Current values:\n",
      "NotebookApp.iopub_msg_rate_limit=1000.0 (msgs/sec)\n",
      "NotebookApp.rate_limit_window=3.0 (secs)\n",
      "\n"
     ]
    },
    {
     "name": "stdout",
     "output_type": "stream",
     "text": [
      "1591/1591 [==============================] - 839s 528ms/step - loss: 0.0164 - accuracy: 0.9935 - top_5_accuracy: 1.0000 - val_loss: 0.0226 - val_accuracy: 0.9850 - val_top_5_accuracy: 1.0000\n",
      "Epoch 51/55\n",
      "1591/1591 [==============================] - 839s 527ms/step - loss: 0.0162 - accuracy: 0.9937 - top_5_accuracy: 1.0000 - val_loss: 0.0744 - val_accuracy: 0.9857 - val_top_5_accuracy: 1.0000\n",
      "Epoch 52/55\n",
      " 218/1591 [===>..........................] - ETA: 11:02 - loss: 0.0159 - accuracy: 0.9938 - top_5_accuracy: 1.0000"
     ]
    },
    {
     "name": "stderr",
     "output_type": "stream",
     "text": [
      "IOPub message rate exceeded.\n",
      "The notebook server will temporarily stop sending output\n",
      "to the client in order to avoid crashing it.\n",
      "To change this limit, set the config variable\n",
      "`--NotebookApp.iopub_msg_rate_limit`.\n",
      "\n",
      "Current values:\n",
      "NotebookApp.iopub_msg_rate_limit=1000.0 (msgs/sec)\n",
      "NotebookApp.rate_limit_window=3.0 (secs)\n",
      "\n"
     ]
    },
    {
     "name": "stdout",
     "output_type": "stream",
     "text": [
      "1591/1591 [==============================] - 838s 527ms/step - loss: 0.0163 - accuracy: 0.9935 - top_5_accuracy: 1.0000 - val_loss: 0.0461 - val_accuracy: 0.9851 - val_top_5_accuracy: 1.0000\n",
      "Epoch 54/55\n",
      "1591/1591 [==============================] - 840s 528ms/step - loss: 0.0163 - accuracy: 0.9934 - top_5_accuracy: 1.0000 - val_loss: 0.1619 - val_accuracy: 0.9858 - val_top_5_accuracy: 1.0000\n",
      "Epoch 55/55\n",
      "1591/1591 [==============================] - 840s 528ms/step - loss: 0.0161 - accuracy: 0.9936 - top_5_accuracy: 1.0000 - val_loss: 0.0081 - val_accuracy: 0.9853 - val_top_5_accuracy: 1.0000\n"
     ]
    }
   ],
   "source": [
    "history = model.fit_generator(\n",
    "            train_generator,\n",
    "            steps_per_epoch=train_generator.n // training_config['batch_size'],\n",
    "            epochs=training_config['epochs'],\n",
    "            validation_data=validation_generator,\n",
    "            validation_steps=validation_generator.n // training_config['batch_size'],\n",
    "            callbacks=callbacks,\n",
    "            initial_epoch=current_epoch,\n",
    "            use_multiprocessing=True,\n",
    "            workers=8)"
   ]
  },
  {
   "cell_type": "markdown",
   "metadata": {},
   "source": [
    "### Analisando dados pós-treinamento"
   ]
  },
  {
   "cell_type": "code",
   "execution_count": 17,
   "metadata": {},
   "outputs": [],
   "source": [
    "import matplotlib.pyplot as plt\n",
    "%matplotlib inline"
   ]
  },
  {
   "cell_type": "code",
   "execution_count": 18,
   "metadata": {},
   "outputs": [
    {
     "data": {
      "image/png": "[encoded data removed]",
      "text/plain": [
       "<Figure size 432x288 with 1 Axes>"
      ]
     },
     "metadata": {
      "needs_background": "light"
     },
     "output_type": "display_data"
    },
    {
     "data": {
      "image/png": "[encoded data removed]",
      "text/plain": [
       "<Figure size 432x288 with 1 Axes>"
      ]
     },
     "metadata": {
      "needs_background": "light"
     },
     "output_type": "display_data"
    }
   ],
   "source": [
    "plt.plot(history.history['accuracy'])\n",
    "plt.plot(history.history['val_accuracy'])\n",
    "plt.title('model accuracy')\n",
    "plt.ylabel('accuracy')\n",
    "plt.xlabel('epoch')\n",
    "plt.legend(['train', 'test'], loc='upper left')\n",
    "plt.show()\n",
    "# summarize history for loss\n",
    "plt.plot(history.history['loss'])\n",
    "plt.plot(history.history['val_loss'])\n",
    "plt.title('model loss')\n",
    "plt.ylabel('loss')\n",
    "plt.xlabel('epoch')\n",
    "plt.legend(['train', 'test'], loc='upper left')\n",
    "plt.show()"
   ]
  },
  {
   "cell_type": "markdown",
   "metadata": {},
   "source": [
    "### Gerando matriz de confusão"
   ]
  },
  {
   "cell_type": "code",
   "execution_count": 19,
   "metadata": {
    "scrolled": true
   },
   "outputs": [
    {
     "name": "stdout",
     "output_type": "stream",
     "text": [
      "Confusion Matrix\n",
      "[[ 2352  8934]\n",
      " [ 9458 35992]]\n"
     ]
    }
   ],
   "source": [
    "import numpy as np\n",
    "from sklearn.metrics import classification_report, confusion_matrix\n",
    "Y_pred = model.predict_generator(validation_generator, validation_generator.n // training_config['batch_size']+1)\n",
    "y_pred = np.argmax(Y_pred, axis=1)\n",
    "print('Confusion Matrix')\n",
    "print(confusion_matrix(validation_generator.classes, y_pred))"
   ]
  },
  {
   "cell_type": "code",
   "execution_count": 22,
   "metadata": {},
   "outputs": [
    {
     "name": "stdout",
     "output_type": "stream",
     "text": [
      "Classification Report\n",
      "              precision    recall  f1-score   support\n",
      "\n",
      "       empty       0.20      0.21      0.20     11286\n",
      "     noempty       0.80      0.79      0.80     45450\n",
      "\n",
      "    accuracy                           0.68     56736\n",
      "   macro avg       0.50      0.50      0.50     56736\n",
      "weighted avg       0.68      0.68      0.68     56736\n",
      "\n"
     ]
    }
   ],
   "source": [
    "print('Classification Report')\n",
    "target_names = ['empty', 'noempty']\n",
    "print(classification_report(validation_generator.classes, y_pred, target_names=target_names))"
   ]
  },
  {
   "cell_type": "code",
   "execution_count": 23,
   "metadata": {},
   "outputs": [],
   "source": [
    "cm=confusion_matrix(validation_generator.classes, y_pred)"
   ]
  },
  {
   "cell_type": "code",
   "execution_count": 24,
   "metadata": {},
   "outputs": [
    {
     "data": {
      "image/png": "[encoded data removed]",
      "text/plain": [
       "<Figure size 720x720 with 1 Axes>"
      ]
     },
     "metadata": {
      "needs_background": "light"
     },
     "output_type": "display_data"
    }
   ],
   "source": [
    "from mlxtend.plotting import plot_confusion_matrix\n",
    "fig, ax = plot_confusion_matrix(conf_mat=cm ,  figsize=(10, 10))\n",
    "plt.show()"
   ]
  },
  {
   "cell_type": "markdown",
   "metadata": {},
   "source": [
    "#### Classificação Empty e NoEmpty 67,58% de Acurácia.\n",
    "\n",
    "Também estamos obtendo 20,83% de sensibilidade e 79,19% de especificidade, o que implica que:\n",
    "\n",
    "Sensibilidade: indica que  a capacidade indentificar o que é background (empty) com o modelo é de 20,83%.\n",
    "\n",
    "Especificidade: indica que capacidade indentificar os animais(NoEmpty) com o modelo é de 79,19%.\n",
    "\n",
    "Dessa forma podemos supor: \n",
    "\n",
    "1- A rede acabou se adaptando demais ao modelo, ocasionando um overfiting\n",
    "\n",
    "2- Houve uma grande dificuldade da rede em identificar o empty. Dessa forma, implica-se supor:\n",
    "\n",
    "    2.1 - O modelo acabou por deduzir que devido o empty aparecer em todos os casos com animais, ele se adaptou             de tal modo que na menor alteração do bakground, o modelo ja classificava como NoEmpty. "
   ]
  },
  {
   "cell_type": "code",
   "execution_count": null,
   "metadata": {},
   "outputs": [],
   "source": []
  }
 ],
 "metadata": {
  "kernelspec": {
   "display_name": "Python 2",
   "language": "python",
   "name": "python2"
  },
  "language_info": {
   "codemirror_mode": {
    "name": "ipython",
    "version": 3
   },
   "file_extension": ".py",
   "mimetype": "text/x-python",
   "name": "python",
   "nbconvert_exporter": "python",
   "pygments_lexer": "ipython3",
   "version": "3.6.7"
  }
 },
 "nbformat": 4,
 "nbformat_minor": 4
}
