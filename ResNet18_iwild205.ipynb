{
 "cells": [
  {
   "cell_type": "code",
   "execution_count": 126,
   "metadata": {},
   "outputs": [],
   "source": [
    "import os\n",
    "\n",
    "import keras\n",
    "\n",
    "from classification_models.keras import Classifiers\n",
    "from keras.preprocessing.image import ImageDataGenerator\n",
    "from keras.layers import GlobalAveragePooling2D, Dense\n",
    "from keras.models import Model\n",
    "from keras.callbacks import ModelCheckpoint, CSVLogger, LearningRateScheduler\n",
    "from keras.metrics import top_k_categorical_accuracy\n",
    "from keras.optimizers import SGD"
   ]
  },
  {
   "cell_type": "markdown",
   "metadata": {},
   "source": [
    "### Configurações de treino"
   ]
  },
  {
   "cell_type": "code",
   "execution_count": 127,
   "metadata": {},
   "outputs": [],
   "source": [
    "def tl_scheduler(epoch):\n",
    "    if epoch < 6:\n",
    "        return 0.005\n",
    "    elif epoch < 11:\n",
    "        return 0.001\n",
    "    elif epoch < 21:\n",
    "        return 0.005\n",
    "    elif epoch < 28:\n",
    "        return 0.001\n",
    "    elif epoch < 36:\n",
    "        return 0.0005\n",
    "    else:\n",
    "        return 0.0001\n"
   ]
  },
  {
   "cell_type": "code",
   "execution_count": 128,
   "metadata": {},
   "outputs": [],
   "source": [
    "training_config = {\n",
    "    'batch_size': 128,\n",
    "    'target_size': (224,224),\n",
    "    'epochs': 55,\n",
    "    'lr': 0.005,\n",
    "    'decay': 0,\n",
    "    'seed': 42\n",
    "}"
   ]
  },
  {
   "cell_type": "code",
   "execution_count": 129,
   "metadata": {},
   "outputs": [],
   "source": [
    "experiments_path = '/data/alberto/iWildCam2020/experiments'\n",
    "experiment = 'resnet18_iwild205_21042020'"
   ]
  },
  {
   "cell_type": "markdown",
   "metadata": {},
   "source": [
    "### Carregando Dataset"
   ]
  },
  {
   "cell_type": "code",
   "execution_count": 130,
   "metadata": {},
   "outputs": [],
   "source": [
    "train_dir = '/data/alberto/iWildCam2020/iwild205/train'\n",
    "validation_dir = '/data/alberto/iWildCam2020/iwild205/validation'"
   ]
  },
  {
   "cell_type": "code",
   "execution_count": 131,
   "metadata": {},
   "outputs": [
    {
     "name": "stdout",
     "output_type": "stream",
     "text": [
      "Found 185276 images belonging to 193 classes.\n",
      "Found 38388 images belonging to 193 classes.\n"
     ]
    }
   ],
   "source": [
    "train_datagen = ImageDataGenerator(rotation_range=20,\n",
    "                                   zoom_range=0.15,\n",
    "                                   width_shift_range=0.2,\n",
    "                                   height_shift_range=0.2,\n",
    "                                   shear_range=0.15,\n",
    "                                   horizontal_flip=True,\n",
    "                                   fill_mode=\"nearest\")\n",
    "\n",
    "validation_datagen = ImageDataGenerator()\n",
    "\n",
    "train_generator = train_datagen.flow_from_directory(\n",
    "        train_dir,\n",
    "        target_size=training_config['target_size'],\n",
    "        batch_size=training_config['batch_size'],\n",
    "        class_mode='categorical',\n",
    "        shuffle=True,\n",
    "        seed=training_config['seed'])\n",
    "\n",
    "validation_generator = validation_datagen.flow_from_directory(\n",
    "        validation_dir,\n",
    "        target_size=training_config['target_size'],\n",
    "        batch_size=training_config['batch_size'],\n",
    "        class_mode='categorical',\n",
    "        classes=sorted(list(train_generator.class_indices.keys())))"
   ]
  },
  {
   "cell_type": "markdown",
   "metadata": {},
   "source": [
    "### Callbacks"
   ]
  },
  {
   "cell_type": "code",
   "execution_count": 132,
   "metadata": {},
   "outputs": [],
   "source": [
    "model_path = os.path.join(experiments_path, experiment, 'models', 'weights.{epoch:02d}-{val_accuracy:.2f}.hdf5')\n",
    "if not os.path.exists(os.path.dirname(model_path)):\n",
    "    os.makedirs(os.path.dirname(model_path))\n",
    "\n",
    "checkpoint = ModelCheckpoint(\n",
    "    filepath=model_path,\n",
    "    monitor='val_accuracy'\n",
    ")\n",
    "\n",
    "checkpoint_best = ModelCheckpoint(\n",
    "    filepath=os.path.join(experiments_path, experiment, 'models', 'best.hdf5'),\n",
    "    save_best_only=True,\n",
    "    monitor='val_accuracy'\n",
    ")\n",
    "\n",
    "csv_path = os.path.join(experiments_path, experiment, 'history', 'training.log')\n",
    "if not os.path.exists(os.path.dirname(csv_path)):\n",
    "    os.makedirs(os.path.dirname(csv_path))\n",
    "\n",
    "csv_logger = CSVLogger(csv_path, append=True)\n",
    "\n",
    "lr_scheduler = LearningRateScheduler(tl_scheduler)"
   ]
  },
  {
   "cell_type": "code",
   "execution_count": 133,
   "metadata": {},
   "outputs": [],
   "source": [
    "callbacks = [checkpoint, checkpoint_best, csv_logger, lr_scheduler]"
   ]
  },
  {
   "cell_type": "markdown",
   "metadata": {},
   "source": [
    "### Métricas"
   ]
  },
  {
   "cell_type": "code",
   "execution_count": 134,
   "metadata": {},
   "outputs": [],
   "source": [
    "def top_5_accuracy(y_true, y_pred):\n",
    "    return top_k_categorical_accuracy(y_true, y_pred, k=5)"
   ]
  },
  {
   "cell_type": "markdown",
   "metadata": {},
   "source": [
    "### Construindo modelo"
   ]
  },
  {
   "cell_type": "code",
   "execution_count": 135,
   "metadata": {},
   "outputs": [],
   "source": [
    "ResNet18, preprocess_input = Classifiers.get('resnet18')"
   ]
  },
  {
   "cell_type": "code",
   "execution_count": 136,
   "metadata": {},
   "outputs": [],
   "source": [
    "base_model = ResNet18(input_shape=(224,224,3), weights='imagenet', include_top=False)\n",
    "x = GlobalAveragePooling2D()(base_model.output)\n",
    "output = Dense(len(validation_generator.class_indices), activation='softmax')(x)\n",
    "model = Model(inputs=[base_model.input], outputs=[output])"
   ]
  },
  {
   "cell_type": "code",
   "execution_count": 137,
   "metadata": {},
   "outputs": [],
   "source": [
    "for layer in model.layers:\n",
    "    layer.trainable = True"
   ]
  },
  {
   "cell_type": "code",
   "execution_count": 138,
   "metadata": {},
   "outputs": [],
   "source": [
    "optimizer = SGD(lr=training_config['lr'], momentum=0.9, decay=0)"
   ]
  },
  {
   "cell_type": "code",
   "execution_count": 139,
   "metadata": {},
   "outputs": [],
   "source": [
    "model.compile(optimizer=optimizer, loss='categorical_crossentropy', metrics=['accuracy', top_5_accuracy])"
   ]
  },
  {
   "cell_type": "code",
   "execution_count": 140,
   "metadata": {},
   "outputs": [],
   "source": [
    "current_epoch = 0"
   ]
  },
  {
   "cell_type": "code",
   "execution_count": null,
   "metadata": {},
   "outputs": [],
   "source": [
    "history = model.fit_generator(\n",
    "            train_generator,\n",
    "            steps_per_epoch=train_generator.n // training_config['batch_size'],\n",
    "            epochs=training_config['epochs'],\n",
    "            validation_data=validation_generator,\n",
    "            validation_steps=validation_generator.n // training_config['batch_size'],\n",
    "            callbacks=callbacks,\n",
    "            initial_epoch=current_epoch,\n",
    "            use_multiprocessing=True,\n",
    "            workers=8)"
   ]
  }
 ],
 "metadata": {
  "kernelspec": {
   "display_name": "Python 3",
   "language": "python",
   "name": "python3"
  },
  "language_info": {
   "codemirror_mode": {
    "name": "ipython",
    "version": 3
   },
   "file_extension": ".py",
   "mimetype": "text/x-python",
   "name": "python",
   "nbconvert_exporter": "python",
   "pygments_lexer": "ipython3",
   "version": "3.6.7"
  }
 },
 "nbformat": 4,
 "nbformat_minor": 4
}
