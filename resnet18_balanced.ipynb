{
 "cells": [
  {
   "cell_type": "code",
   "execution_count": 1,
   "metadata": {},
   "outputs": [
    {
     "name": "stderr",
     "output_type": "stream",
     "text": [
      "Using TensorFlow backend.\n"
     ]
    }
   ],
   "source": [
    "import os\n",
    "\n",
    "import keras\n",
    "\n",
    "from classification_models.keras import Classifiers\n",
    "from keras.preprocessing.image import ImageDataGenerator\n",
    "from keras.layers import GlobalAveragePooling2D, Dense\n",
    "from keras.models import Model\n",
    "from keras.callbacks import ModelCheckpoint, CSVLogger, LearningRateScheduler\n",
    "from keras.metrics import top_k_categorical_accuracy\n",
    "from keras.optimizers import SGD"
   ]
  },
  {
   "cell_type": "markdown",
   "metadata": {},
   "source": [
    "### Configurações de treino"
   ]
  },
  {
   "cell_type": "code",
   "execution_count": 2,
   "metadata": {},
   "outputs": [],
   "source": [
    "def tl_scheduler(epoch):\n",
    "    if epoch < 6:\n",
    "        return 0.005\n",
    "    elif epoch < 11:\n",
    "        return 0.001\n",
    "    elif epoch < 21:\n",
    "        return 0.005\n",
    "    elif epoch < 28:\n",
    "        return 0.001\n",
    "    elif epoch < 36:\n",
    "        return 0.0005\n",
    "    else:\n",
    "        return 0.0001\n"
   ]
  },
  {
   "cell_type": "code",
   "execution_count": 3,
   "metadata": {},
   "outputs": [],
   "source": [
    "training_config = {\n",
    "    'batch_size': 128,\n",
    "    'target_size': (224,224),\n",
    "    'epochs': 55,\n",
    "    'lr': 0.005,\n",
    "    'decay': 0,\n",
    "    'seed': 42\n",
    "}"
   ]
  },
  {
   "cell_type": "markdown",
   "metadata": {},
   "source": [
    "### Carregando Dataset"
   ]
  },
  {
   "cell_type": "code",
   "execution_count": 4,
   "metadata": {},
   "outputs": [],
   "source": [
    "experiments_path = '/data/alberto/iWildCam2020/experiments'\n",
    "experiment = 'resnet18_train_balanced'"
   ]
  },
  {
   "cell_type": "code",
   "execution_count": 5,
   "metadata": {},
   "outputs": [],
   "source": [
    "train_dir = '/data/alberto/iWildCam2020/balanced_resized/balanced_train_resized'\n",
    "validation_dir = '/data/alberto/iWildCam2020/balanced_resized/balanced_validation_resized'"
   ]
  },
  {
   "cell_type": "code",
   "execution_count": 6,
   "metadata": {},
   "outputs": [
    {
     "name": "stdout",
     "output_type": "stream",
     "text": [
      "Found 148355 images belonging to 3 classes.\n",
      "Found 22571 images belonging to 3 classes.\n"
     ]
    }
   ],
   "source": [
    "train_datagen = ImageDataGenerator(rotation_range=20,\n",
    "                                   zoom_range=0.15,\n",
    "                                   width_shift_range=0.2,\n",
    "                                   height_shift_range=0.2,\n",
    "                                   shear_range=0.15,\n",
    "                                   horizontal_flip=True,\n",
    "                                   fill_mode=\"nearest\")\n",
    "\n",
    "validation_datagen = ImageDataGenerator()\n",
    "\n",
    "train_generator = train_datagen.flow_from_directory(\n",
    "        train_dir,\n",
    "        target_size=training_config['target_size'],\n",
    "        batch_size=training_config['batch_size'],\n",
    "        class_mode='categorical',\n",
    "        shuffle=True,\n",
    "        seed=training_config['seed'])\n",
    "\n",
    "validation_generator = validation_datagen.flow_from_directory(\n",
    "        validation_dir,\n",
    "        target_size=training_config['target_size'],\n",
    "        batch_size=training_config['batch_size'],\n",
    "        class_mode='categorical',\n",
    "        classes=sorted(list(train_generator.class_indices.keys())))"
   ]
  },
  {
   "cell_type": "markdown",
   "metadata": {},
   "source": [
    "### Calbacks"
   ]
  },
  {
   "cell_type": "code",
   "execution_count": 7,
   "metadata": {},
   "outputs": [],
   "source": [
    "model_path = os.path.join(experiments_path, experiment, 'models', 'weights.{epoch:02d}-{val_accuracy:.2f}.hdf5')\n",
    "if not os.path.exists(os.path.dirname(model_path)):\n",
    "    os.makedirs(os.path.dirname(model_path))\n",
    "\n",
    "checkpoint = ModelCheckpoint(\n",
    "    filepath=model_path,\n",
    "    monitor='val_accuracy'\n",
    ")\n",
    "\n",
    "checkpoint_best = ModelCheckpoint(\n",
    "    filepath=os.path.join(experiments_path, experiment, 'models', 'best.hdf5'),\n",
    "    save_best_only=True,\n",
    "    monitor='val_accuracy'\n",
    ")\n",
    "\n",
    "csv_path = os.path.join(experiments_path, experiment, 'history', 'training.log')\n",
    "if not os.path.exists(os.path.dirname(csv_path)):\n",
    "    os.makedirs(os.path.dirname(csv_path))\n",
    "\n",
    "csv_logger = CSVLogger(csv_path, append=True)\n",
    "\n",
    "lr_scheduler = LearningRateScheduler(tl_scheduler)"
   ]
  },
  {
   "cell_type": "code",
   "execution_count": 8,
   "metadata": {},
   "outputs": [],
   "source": [
    "callbacks = [checkpoint, checkpoint_best, csv_logger, lr_scheduler]"
   ]
  },
  {
   "cell_type": "markdown",
   "metadata": {},
   "source": [
    "### Definindo Métricas"
   ]
  },
  {
   "cell_type": "code",
   "execution_count": 9,
   "metadata": {},
   "outputs": [],
   "source": [
    "def top_5_accuracy(y_true, y_pred):\n",
    "    return top_k_categorical_accuracy(y_true, y_pred, k=5)"
   ]
  },
  {
   "cell_type": "markdown",
   "metadata": {},
   "source": [
    "### Preparando modelo "
   ]
  },
  {
   "cell_type": "code",
   "execution_count": 10,
   "metadata": {},
   "outputs": [],
   "source": [
    "ResNet18, preprocess_input = Classifiers.get('resnet18')"
   ]
  },
  {
   "cell_type": "code",
   "execution_count": 11,
   "metadata": {},
   "outputs": [],
   "source": [
    "base_model = ResNet18(input_shape=(224,224,3), weights='imagenet', include_top=False)\n",
    "x = GlobalAveragePooling2D()(base_model.output)\n",
    "output = Dense(len(validation_generator.class_indices), activation='softmax')(x)\n",
    "model = Model(inputs=[base_model.input], outputs=[output])"
   ]
  },
  {
   "cell_type": "code",
   "execution_count": 12,
   "metadata": {},
   "outputs": [],
   "source": [
    "for layer in model.layers:\n",
    "    layer.trainable = True"
   ]
  },
  {
   "cell_type": "code",
   "execution_count": 14,
   "metadata": {},
   "outputs": [],
   "source": [
    "optimizer = SGD(lr=training_config['lr'], momentum=0.9, decay=0)"
   ]
  },
  {
   "cell_type": "code",
   "execution_count": 15,
   "metadata": {},
   "outputs": [],
   "source": [
    "model.compile(optimizer=optimizer, loss='categorical_crossentropy', metrics=['accuracy', top_5_accuracy])"
   ]
  },
  {
   "cell_type": "code",
   "execution_count": 16,
   "metadata": {},
   "outputs": [],
   "source": [
    "current_epoch = 0"
   ]
  },
  {
   "cell_type": "markdown",
   "metadata": {},
   "source": [
    "### Treinando modelo"
   ]
  },
  {
   "cell_type": "code",
   "execution_count": 17,
   "metadata": {},
   "outputs": [
    {
     "name": "stdout",
     "output_type": "stream",
     "text": [
      "Epoch 1/55\n",
      "1159/1159 [==============================] - 589s 508ms/step - loss: 0.1213 - accuracy: 0.9590 - top_5_accuracy: 1.0000 - val_loss: 0.1772 - val_accuracy: 0.9395 - val_top_5_accuracy: 1.0000\n",
      "Epoch 2/55\n",
      "1159/1159 [==============================] - 584s 504ms/step - loss: 0.0908 - accuracy: 0.9683 - top_5_accuracy: 1.0000 - val_loss: 0.1327 - val_accuracy: 0.9500 - val_top_5_accuracy: 1.0000\n",
      "Epoch 3/55\n",
      "1159/1159 [==============================] - 584s 504ms/step - loss: 0.0748 - accuracy: 0.9728 - top_5_accuracy: 1.0000 - val_loss: 0.0935 - val_accuracy: 0.9625 - val_top_5_accuracy: 1.0000\n",
      "Epoch 4/55\n",
      "1159/1159 [==============================] - 584s 504ms/step - loss: 0.0727 - accuracy: 0.9733 - top_5_accuracy: 1.0000 - val_loss: 0.1008 - val_accuracy: 0.9549 - val_top_5_accuracy: 1.0000\n",
      "Epoch 5/55\n",
      "1159/1159 [==============================] - 584s 504ms/step - loss: 0.0632 - accuracy: 0.9769 - top_5_accuracy: 1.0000 - val_loss: 0.1013 - val_accuracy: 0.9541 - val_top_5_accuracy: 1.0000\n",
      "Epoch 6/55\n",
      "1159/1159 [==============================] - 584s 504ms/step - loss: 0.0558 - accuracy: 0.9792 - top_5_accuracy: 1.0000 - val_loss: 0.1253 - val_accuracy: 0.9698 - val_top_5_accuracy: 1.0000\n",
      "Epoch 7/55\n",
      "1159/1159 [==============================] - 585s 504ms/step - loss: 0.0429 - accuracy: 0.9842 - top_5_accuracy: 1.0000 - val_loss: 0.0437 - val_accuracy: 0.9719 - val_top_5_accuracy: 1.0000\n",
      "Epoch 8/55\n",
      "1159/1159 [==============================] - 584s 504ms/step - loss: 0.0431 - accuracy: 0.9844 - top_5_accuracy: 1.0000 - val_loss: 0.0328 - val_accuracy: 0.9738 - val_top_5_accuracy: 1.0000\n",
      "Epoch 9/55\n",
      "1159/1159 [==============================] - 584s 504ms/step - loss: 0.0400 - accuracy: 0.9850 - top_5_accuracy: 1.0000 - val_loss: 0.0477 - val_accuracy: 0.9720 - val_top_5_accuracy: 1.0000\n",
      "Epoch 10/55\n",
      "1159/1159 [==============================] - 584s 504ms/step - loss: 0.0402 - accuracy: 0.9852 - top_5_accuracy: 1.0000 - val_loss: 0.0849 - val_accuracy: 0.9726 - val_top_5_accuracy: 1.0000\n",
      "Epoch 11/55\n",
      "1159/1159 [==============================] - 584s 504ms/step - loss: 0.0389 - accuracy: 0.9856 - top_5_accuracy: 1.0000 - val_loss: 0.0953 - val_accuracy: 0.9752 - val_top_5_accuracy: 1.0000\n",
      "Epoch 12/55\n",
      "1159/1159 [==============================] - 584s 504ms/step - loss: 0.0513 - accuracy: 0.9815 - top_5_accuracy: 1.0000 - val_loss: 0.0552 - val_accuracy: 0.9703 - val_top_5_accuracy: 1.0000\n",
      "Epoch 13/55\n",
      "1159/1159 [==============================] - 584s 504ms/step - loss: 0.0436 - accuracy: 0.9836 - top_5_accuracy: 1.0000 - val_loss: 0.0870 - val_accuracy: 0.9744 - val_top_5_accuracy: 1.0000\n",
      "Epoch 14/55\n",
      "1159/1159 [==============================] - 584s 504ms/step - loss: 0.0398 - accuracy: 0.9852 - top_5_accuracy: 1.0000 - val_loss: 0.1386 - val_accuracy: 0.9689 - val_top_5_accuracy: 1.0000\n",
      "Epoch 15/55\n",
      "1159/1159 [==============================] - 584s 504ms/step - loss: 0.0374 - accuracy: 0.9859 - top_5_accuracy: 1.0000 - val_loss: 0.0554 - val_accuracy: 0.9716 - val_top_5_accuracy: 1.0000\n",
      "Epoch 16/55\n",
      "1159/1159 [==============================] - 584s 504ms/step - loss: 0.0502 - accuracy: 0.9824 - top_5_accuracy: 1.0000 - val_loss: 0.0320 - val_accuracy: 0.9763 - val_top_5_accuracy: 1.0000\n",
      "Epoch 17/55\n",
      "1159/1159 [==============================] - 585s 504ms/step - loss: 0.0504 - accuracy: 0.9821 - top_5_accuracy: 1.0000 - val_loss: 0.0542 - val_accuracy: 0.9608 - val_top_5_accuracy: 1.0000\n",
      "Epoch 18/55\n",
      "1159/1159 [==============================] - 585s 504ms/step - loss: 0.0413 - accuracy: 0.9843 - top_5_accuracy: 1.0000 - val_loss: 0.2447 - val_accuracy: 0.9664 - val_top_5_accuracy: 1.0000\n",
      "Epoch 19/55\n",
      "1159/1159 [==============================] - 584s 504ms/step - loss: 0.0398 - accuracy: 0.9855 - top_5_accuracy: 1.0000 - val_loss: 0.0436 - val_accuracy: 0.9761 - val_top_5_accuracy: 1.0000\n",
      "Epoch 20/55\n",
      "1159/1159 [==============================] - 584s 504ms/step - loss: 0.0432 - accuracy: 0.9849 - top_5_accuracy: 1.0000 - val_loss: 0.0651 - val_accuracy: 0.9650 - val_top_5_accuracy: 1.0000\n",
      "Epoch 21/55\n",
      "1159/1159 [==============================] - 585s 504ms/step - loss: 0.0347 - accuracy: 0.9866 - top_5_accuracy: 1.0000 - val_loss: 0.0553 - val_accuracy: 0.9760 - val_top_5_accuracy: 1.0000\n",
      "Epoch 22/55\n",
      "1159/1159 [==============================] - 584s 504ms/step - loss: 0.0318 - accuracy: 0.9888 - top_5_accuracy: 1.0000 - val_loss: 0.0378 - val_accuracy: 0.9778 - val_top_5_accuracy: 1.0000\n",
      "Epoch 23/55\n",
      "1159/1159 [==============================] - 585s 504ms/step - loss: 0.0299 - accuracy: 0.9895 - top_5_accuracy: 1.0000 - val_loss: 0.0621 - val_accuracy: 0.9787 - val_top_5_accuracy: 1.0000\n",
      "Epoch 24/55\n",
      "1159/1159 [==============================] - 584s 504ms/step - loss: 0.0262 - accuracy: 0.9902 - top_5_accuracy: 1.0000 - val_loss: 0.1945 - val_accuracy: 0.9788 - val_top_5_accuracy: 1.0000\n",
      "Epoch 25/55\n",
      "1159/1159 [==============================] - 585s 505ms/step - loss: 0.0248 - accuracy: 0.9906 - top_5_accuracy: 1.0000 - val_loss: 0.0664 - val_accuracy: 0.9796 - val_top_5_accuracy: 1.0000\n",
      "Epoch 26/55\n",
      "1159/1159 [==============================] - 584s 504ms/step - loss: 0.0276 - accuracy: 0.9902 - top_5_accuracy: 1.0000 - val_loss: 0.0382 - val_accuracy: 0.9799 - val_top_5_accuracy: 1.0000\n",
      "Epoch 27/55\n",
      "1159/1159 [==============================] - 585s 505ms/step - loss: 0.0272 - accuracy: 0.9906 - top_5_accuracy: 1.0000 - val_loss: 0.1571 - val_accuracy: 0.9778 - val_top_5_accuracy: 1.0000\n",
      "Epoch 28/55\n",
      "1159/1159 [==============================] - 584s 504ms/step - loss: 0.0262 - accuracy: 0.9909 - top_5_accuracy: 1.0000 - val_loss: 0.0340 - val_accuracy: 0.9813 - val_top_5_accuracy: 1.0000\n",
      "Epoch 29/55\n",
      "1159/1159 [==============================] - 585s 504ms/step - loss: 0.0247 - accuracy: 0.9907 - top_5_accuracy: 1.0000 - val_loss: 0.0751 - val_accuracy: 0.9812 - val_top_5_accuracy: 1.0000\n",
      "Epoch 30/55\n",
      "1159/1159 [==============================] - 585s 504ms/step - loss: 0.0237 - accuracy: 0.9910 - top_5_accuracy: 1.0000 - val_loss: 0.1028 - val_accuracy: 0.9795 - val_top_5_accuracy: 1.0000\n",
      "Epoch 31/55\n",
      "1159/1159 [==============================] - 585s 505ms/step - loss: 0.0229 - accuracy: 0.9916 - top_5_accuracy: 1.0000 - val_loss: 0.2880 - val_accuracy: 0.9775 - val_top_5_accuracy: 1.0000\n",
      "Epoch 32/55\n",
      "1159/1159 [==============================] - 585s 504ms/step - loss: 0.0222 - accuracy: 0.9917 - top_5_accuracy: 1.0000 - val_loss: 0.0879 - val_accuracy: 0.9801 - val_top_5_accuracy: 1.0000\n",
      "Epoch 33/55\n",
      "1159/1159 [==============================] - 585s 505ms/step - loss: 0.0220 - accuracy: 0.9918 - top_5_accuracy: 1.0000 - val_loss: 0.3306 - val_accuracy: 0.9805 - val_top_5_accuracy: 1.0000\n",
      "Epoch 34/55\n",
      "1159/1159 [==============================] - 585s 504ms/step - loss: 0.0246 - accuracy: 0.9918 - top_5_accuracy: 1.0000 - val_loss: 0.0889 - val_accuracy: 0.9787 - val_top_5_accuracy: 1.0000\n",
      "Epoch 35/55\n",
      "1159/1159 [==============================] - 585s 504ms/step - loss: 0.0251 - accuracy: 0.9915 - top_5_accuracy: 1.0000 - val_loss: 0.0064 - val_accuracy: 0.9772 - val_top_5_accuracy: 1.0000\n",
      "Epoch 36/55\n",
      "1159/1159 [==============================] - 585s 504ms/step - loss: 0.0224 - accuracy: 0.9917 - top_5_accuracy: 1.0000 - val_loss: 0.1096 - val_accuracy: 0.9804 - val_top_5_accuracy: 1.0000\n",
      "Epoch 37/55\n",
      "1159/1159 [==============================] - 585s 505ms/step - loss: 0.0234 - accuracy: 0.9916 - top_5_accuracy: 1.0000 - val_loss: 0.2261 - val_accuracy: 0.9794 - val_top_5_accuracy: 1.0000\n",
      "Epoch 38/55\n",
      "1159/1159 [==============================] - 585s 505ms/step - loss: 0.0256 - accuracy: 0.9918 - top_5_accuracy: 1.0000 - val_loss: 0.0301 - val_accuracy: 0.9799 - val_top_5_accuracy: 1.0000\n",
      "Epoch 39/55\n",
      "1159/1159 [==============================] - 585s 505ms/step - loss: 0.0216 - accuracy: 0.9920 - top_5_accuracy: 1.0000 - val_loss: 0.0316 - val_accuracy: 0.9792 - val_top_5_accuracy: 1.0000\n",
      "Epoch 40/55\n",
      "1159/1159 [==============================] - 585s 504ms/step - loss: 0.0214 - accuracy: 0.9919 - top_5_accuracy: 1.0000 - val_loss: 0.1009 - val_accuracy: 0.9795 - val_top_5_accuracy: 1.0000\n",
      "Epoch 41/55\n",
      "1159/1159 [==============================] - 585s 504ms/step - loss: 0.0223 - accuracy: 0.9921 - top_5_accuracy: 1.0000 - val_loss: 0.0342 - val_accuracy: 0.9786 - val_top_5_accuracy: 1.0000\n",
      "Epoch 42/55\n",
      "1159/1159 [==============================] - 585s 504ms/step - loss: 0.0247 - accuracy: 0.9921 - top_5_accuracy: 1.0000 - val_loss: 0.0502 - val_accuracy: 0.9815 - val_top_5_accuracy: 1.0000\n",
      "Epoch 43/55\n",
      "1159/1159 [==============================] - 584s 504ms/step - loss: 0.0217 - accuracy: 0.9917 - top_5_accuracy: 1.0000 - val_loss: 0.0620 - val_accuracy: 0.9787 - val_top_5_accuracy: 1.0000\n",
      "Epoch 44/55\n",
      "1159/1159 [==============================] - 584s 504ms/step - loss: 0.0211 - accuracy: 0.9920 - top_5_accuracy: 1.0000 - val_loss: 0.1111 - val_accuracy: 0.9799 - val_top_5_accuracy: 1.0000\n",
      "Epoch 45/55\n",
      "1159/1159 [==============================] - 584s 504ms/step - loss: 0.0224 - accuracy: 0.9923 - top_5_accuracy: 1.0000 - val_loss: 0.0784 - val_accuracy: 0.9783 - val_top_5_accuracy: 1.0000\n",
      "Epoch 46/55\n",
      "1159/1159 [==============================] - 584s 504ms/step - loss: 0.0213 - accuracy: 0.9918 - top_5_accuracy: 1.0000 - val_loss: 0.0089 - val_accuracy: 0.9802 - val_top_5_accuracy: 1.0000\n",
      "Epoch 47/55\n",
      "1159/1159 [==============================] - 585s 504ms/step - loss: 0.0205 - accuracy: 0.9924 - top_5_accuracy: 1.0000 - val_loss: 0.0448 - val_accuracy: 0.9796 - val_top_5_accuracy: 1.0000\n",
      "Epoch 48/55\n",
      "1159/1159 [==============================] - 585s 505ms/step - loss: 0.0207 - accuracy: 0.9923 - top_5_accuracy: 1.0000 - val_loss: 0.1451 - val_accuracy: 0.9790 - val_top_5_accuracy: 1.0000\n",
      "Epoch 49/55\n",
      "1159/1159 [==============================] - 584s 504ms/step - loss: 0.0205 - accuracy: 0.9923 - top_5_accuracy: 1.0000 - val_loss: 0.0284 - val_accuracy: 0.9806 - val_top_5_accuracy: 1.0000\n",
      "Epoch 50/55\n",
      "1159/1159 [==============================] - 585s 504ms/step - loss: 0.0207 - accuracy: 0.9921 - top_5_accuracy: 1.0000 - val_loss: 0.0874 - val_accuracy: 0.9803 - val_top_5_accuracy: 1.0000\n",
      "Epoch 51/55\n",
      "1159/1159 [==============================] - 584s 504ms/step - loss: 0.0248 - accuracy: 0.9921 - top_5_accuracy: 1.0000 - val_loss: 0.0274 - val_accuracy: 0.9795 - val_top_5_accuracy: 1.0000\n",
      "Epoch 52/55\n",
      "1159/1159 [==============================] - 584s 504ms/step - loss: 0.0207 - accuracy: 0.9924 - top_5_accuracy: 1.0000 - val_loss: 0.0882 - val_accuracy: 0.9792 - val_top_5_accuracy: 1.0000\n",
      "Epoch 53/55\n",
      "1159/1159 [==============================] - 585s 505ms/step - loss: 0.0206 - accuracy: 0.9923 - top_5_accuracy: 1.0000 - val_loss: 0.0260 - val_accuracy: 0.9789 - val_top_5_accuracy: 1.0000\n",
      "Epoch 54/55\n",
      "1159/1159 [==============================] - 584s 504ms/step - loss: 0.0233 - accuracy: 0.9921 - top_5_accuracy: 1.0000 - val_loss: 0.0919 - val_accuracy: 0.9798 - val_top_5_accuracy: 1.0000\n",
      "Epoch 55/55\n",
      "1159/1159 [==============================] - 584s 504ms/step - loss: 0.0205 - accuracy: 0.9923 - top_5_accuracy: 1.0000 - val_loss: 0.0286 - val_accuracy: 0.9804 - val_top_5_accuracy: 1.0000\n"
     ]
    }
   ],
   "source": [
    "history = model.fit_generator(\n",
    "            train_generator,\n",
    "            steps_per_epoch=train_generator.n // training_config['batch_size'],\n",
    "            epochs=training_config['epochs'],\n",
    "            validation_data=validation_generator,\n",
    "            validation_steps=validation_generator.n // training_config['batch_size'],\n",
    "            callbacks=callbacks,\n",
    "            initial_epoch=current_epoch,\n",
    "            use_multiprocessing=True,\n",
    "            workers=8)"
   ]
  },
  {
   "cell_type": "markdown",
   "metadata": {},
   "source": [
    "### Analisando dados pós-treinamento"
   ]
  },
  {
   "cell_type": "code",
   "execution_count": 18,
   "metadata": {},
   "outputs": [],
   "source": [
    "import matplotlib.pyplot as plt\n",
    "%matplotlib inline"
   ]
  },
  {
   "cell_type": "code",
   "execution_count": 19,
   "metadata": {},
   "outputs": [
    {
     "data": {
      "image/png": "[encoded data removed]",
      "text/plain": [
       "<Figure size 432x288 with 1 Axes>"
      ]
     },
     "metadata": {
      "needs_background": "light"
     },
     "output_type": "display_data"
    },
    {
     "data": {
      "image/png": "[encoded data removed]",
      "text/plain": [
       "<Figure size 432x288 with 1 Axes>"
      ]
     },
     "metadata": {
      "needs_background": "light"
     },
     "output_type": "display_data"
    }
   ],
   "source": [
    "plt.plot(history.history['accuracy'])\n",
    "plt.plot(history.history['val_accuracy'])\n",
    "plt.title('model accuracy')\n",
    "plt.ylabel('accuracy')\n",
    "plt.xlabel('epoch')\n",
    "plt.legend(['train', 'test'], loc='upper left')\n",
    "plt.show()\n",
    "# summarize history for loss\n",
    "plt.plot(history.history['loss'])\n",
    "plt.plot(history.history['val_loss'])\n",
    "plt.title('model loss')\n",
    "plt.ylabel('loss')\n",
    "plt.xlabel('epoch')\n",
    "plt.legend(['train', 'test'], loc='upper left')\n",
    "plt.show()"
   ]
  },
  {
   "cell_type": "markdown",
   "metadata": {},
   "source": [
    "### Gerando matriz de confusão"
   ]
  },
  {
   "cell_type": "code",
   "execution_count": 20,
   "metadata": {
    "scrolled": true
   },
   "outputs": [
    {
     "name": "stdout",
     "output_type": "stream",
     "text": [
      "Confusion Matrix\n",
      "[[5697 5589]\n",
      " [5784 5501]]\n"
     ]
    }
   ],
   "source": [
    "import numpy as np\n",
    "from sklearn.metrics import classification_report, confusion_matrix\n",
    "Y_pred = model.predict_generator(validation_generator, validation_generator.n // training_config['batch_size']+1)\n",
    "y_pred = np.argmax(Y_pred, axis=1)\n",
    "print('Confusion Matrix')\n",
    "print(confusion_matrix(validation_generator.classes, y_pred))"
   ]
  },
  {
   "cell_type": "code",
   "execution_count": 21,
   "metadata": {},
   "outputs": [
    {
     "name": "stdout",
     "output_type": "stream",
     "text": [
      "Classification Report\n",
      "              precision    recall  f1-score   support\n",
      "\n",
      "       empty       0.50      0.50      0.50     11286\n",
      "     noempty       0.50      0.49      0.49     11285\n",
      "\n",
      "    accuracy                           0.50     22571\n",
      "   macro avg       0.50      0.50      0.50     22571\n",
      "weighted avg       0.50      0.50      0.50     22571\n",
      "\n"
     ]
    }
   ],
   "source": [
    "print('Classification Report')\n",
    "target_names = ['empty', 'noempty']\n",
    "print(classification_report(validation_generator.classes, y_pred, target_names=target_names))"
   ]
  },
  {
   "cell_type": "code",
   "execution_count": 22,
   "metadata": {},
   "outputs": [],
   "source": [
    "cm=confusion_matrix(validation_generator.classes, y_pred)"
   ]
  },
  {
   "cell_type": "code",
   "execution_count": 25,
   "metadata": {},
   "outputs": [
    {
     "name": "stdout",
     "output_type": "stream",
     "text": [
      "Acurácia: 0.4961\n",
      "Sensitividade: 0.5048\n",
      "Especificidade: 0.4875\n"
     ]
    },
    {
     "data": {
      "image/png": "[encoded data removed]",
      "text/plain": [
       "<Figure size 360x360 with 1 Axes>"
      ]
     },
     "metadata": {
      "needs_background": "light"
     },
     "output_type": "display_data"
    }
   ],
   "source": [
    "total = sum(sum(cm))\n",
    "acc = (cm[0, 0] + cm[1, 1]) / total\n",
    "sensitivity = cm[0, 0] / (cm[0, 0] + cm[0, 1])\n",
    "specificity = cm[1, 1] / (cm[1, 0] + cm[1, 1])\n",
    "\n",
    "print(\"Acurácia: {:.4f}\".format(acc))\n",
    "print(\"Sensitividade: {:.4f}\".format(sensitivity))\n",
    "print(\"Especificidade: {:.4f}\".format(specificity))\n",
    "\n",
    "from mlxtend.plotting import plot_confusion_matrix\n",
    "fig, ax = plot_confusion_matrix(conf_mat=cm ,  figsize=(5, 5))\n",
    "plt.show()"
   ]
  },
  {
   "cell_type": "markdown",
   "metadata": {},
   "source": [
    "#### Classificação Empty e NoEmpty 49,61% de Acurácia.\n",
    "\n",
    "Também estamos obtendo 50,48% de sensibilidade e 48,75% de especificidade, o que implica que:\n",
    "\n",
    "Sensibilidade: indica que  a capacidade indentificar o que é background (empty) com o modelo é de 50,48%.\n",
    "\n",
    "Especificidade: indica que capacidade indentificar os animais(NoEmpty) com o modelo é de 48,75%.\n",
    "\n",
    "Dessa forma podemos supor: \n",
    "\n",
    "1- A rede acabou se adaptando demais ao modelo, ocasionando um overfiting\n",
    "\n",
    "2- Houve uma grande dificuldade da rede em identificar o empty. Dessa forma, implica-se supor:\n",
    "\n",
    "     2.1 - O modelo acabou por não aprender o que é de fato cada classe, dessa forma, ele acabou chutando a                              categoria das imagens . "
   ]
  },
  {
   "cell_type": "code",
   "execution_count": null,
   "metadata": {},
   "outputs": [],
   "source": []
  }
 ],
 "metadata": {
  "kernelspec": {
   "display_name": "Python 2",
   "language": "python",
   "name": "python2"
  },
  "language_info": {
   "codemirror_mode": {
    "name": "ipython",
    "version": 3
   },
   "file_extension": ".py",
   "mimetype": "text/x-python",
   "name": "python",
   "nbconvert_exporter": "python",
   "pygments_lexer": "ipython3",
   "version": "3.6.7"
  }
 },
 "nbformat": 4,
 "nbformat_minor": 4
}
