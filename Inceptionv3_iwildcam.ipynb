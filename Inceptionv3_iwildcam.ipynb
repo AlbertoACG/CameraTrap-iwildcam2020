{
 "cells": [
  {
   "cell_type": "code",
   "execution_count": 1,
   "metadata": {},
   "outputs": [],
   "source": [
    "\n",
    "import os\n",
    "\n",
    "from tensorflow.keras.preprocessing.image import ImageDataGenerator\n",
    "from tensorflow.keras.layers import GlobalAveragePooling2D, Dense\n",
    "from tensorflow.keras.models import Model\n",
    "from tensorflow.keras.callbacks import ModelCheckpoint, CSVLogger, LearningRateScheduler\n",
    "from tensorflow.keras.metrics import top_k_categorical_accuracy\n",
    "from tensorflow.keras.optimizers import SGD\n",
    "from tensorflow.keras.applications import InceptionV3"
   ]
  },
  {
   "cell_type": "code",
   "execution_count": 2,
   "metadata": {},
   "outputs": [],
   "source": [
    "experiments_path = '/data/alberto/iWildCam2020/experiments'\n",
    "experiment = 'inceptionv3_iwildcam_20052020'"
   ]
  },
  {
   "cell_type": "markdown",
   "metadata": {},
   "source": [
    "### Configurações de treino"
   ]
  },
  {
   "cell_type": "code",
   "execution_count": 3,
   "metadata": {},
   "outputs": [],
   "source": [
    "def tl_scheduler(epoch):\n",
    "    if epoch < 6:\n",
    "        return 0.005\n",
    "    elif epoch < 11:\n",
    "        return 0.001\n",
    "    elif epoch < 21:\n",
    "        return 0.005\n",
    "    elif epoch < 28:\n",
    "        return 0.001\n",
    "    elif epoch < 36:\n",
    "        return 0.0005\n",
    "    else:\n",
    "        return 0.0001"
   ]
  },
  {
   "cell_type": "code",
   "execution_count": 4,
   "metadata": {},
   "outputs": [],
   "source": [
    "training_config = {\n",
    "    'batch_size': 32,\n",
    "    'target_size': (299,299),\n",
    "    'epochs': 30,\n",
    "    'lr': 0.005,\n",
    "    'decay': 0,\n",
    "    'seed': 42\n",
    "}"
   ]
  },
  {
   "cell_type": "markdown",
   "metadata": {},
   "source": [
    "### Carregando dataset iwildcam"
   ]
  },
  {
   "cell_type": "code",
   "execution_count": 5,
   "metadata": {},
   "outputs": [],
   "source": [
    "train_dir = '/data/alberto/iWildCam2020/resized/train_resized'\n",
    "validation_dir = '/data/alberto/iWildCam2020/resized/validation_resized'"
   ]
  },
  {
   "cell_type": "code",
   "execution_count": 6,
   "metadata": {},
   "outputs": [
    {
     "name": "stdout",
     "output_type": "stream",
     "text": [
      "Found 203689 images belonging to 3 classes.\n",
      "Found 56736 images belonging to 3 classes.\n"
     ]
    }
   ],
   "source": [
    "\n",
    "train_datagen = ImageDataGenerator(rotation_range=20,\n",
    "                                   zoom_range=0.15,\n",
    "                                   width_shift_range=0.2,\n",
    "                                   height_shift_range=0.2,\n",
    "                                   shear_range=0.15,\n",
    "                                   horizontal_flip=True,\n",
    "                                   fill_mode=\"nearest\")\n",
    "\n",
    "validation_datagen = ImageDataGenerator()\n",
    "\n",
    "train_generator = train_datagen.flow_from_directory(\n",
    "        train_dir,\n",
    "        target_size=training_config['target_size'],\n",
    "        batch_size=training_config['batch_size'],\n",
    "        class_mode='categorical',\n",
    "        shuffle=True,\n",
    "        seed=training_config['seed'])\n",
    "\n",
    "validation_generator = validation_datagen.flow_from_directory(\n",
    "        validation_dir,\n",
    "        target_size=training_config['target_size'],\n",
    "        batch_size=training_config['batch_size'],\n",
    "        class_mode='categorical',\n",
    "        classes=sorted(list(train_generator.class_indices.keys())))"
   ]
  },
  {
   "cell_type": "markdown",
   "metadata": {},
   "source": [
    "### Callbacks"
   ]
  },
  {
   "cell_type": "code",
   "execution_count": 7,
   "metadata": {},
   "outputs": [],
   "source": [
    "model_path = os.path.join(experiments_path, experiment, 'models', 'weights.{epoch:02d}-{val_accuracy:.2f}.hdf5')\n",
    "if not os.path.exists(os.path.dirname(model_path)):\n",
    "    os.makedirs(os.path.dirname(model_path))\n",
    "\n",
    "checkpoint = ModelCheckpoint(\n",
    "    filepath=model_path,\n",
    "    monitor='val_accuracy'\n",
    ")\n",
    "\n",
    "checkpoint_best = ModelCheckpoint(\n",
    "    filepath=os.path.join(experiments_path, experiment, 'models', 'best.hdf5'),\n",
    "    save_best_only=True,\n",
    "    monitor='val_accuracy'\n",
    ")\n",
    "\n",
    "csv_path = os.path.join(experiments_path, experiment, 'history', 'training.log')\n",
    "if not os.path.exists(os.path.dirname(csv_path)):\n",
    "    os.makedirs(os.path.dirname(csv_path))\n",
    "\n",
    "csv_logger = CSVLogger(csv_path, append=True)\n",
    "\n",
    "lr_scheduler = LearningRateScheduler(tl_scheduler)"
   ]
  },
  {
   "cell_type": "code",
   "execution_count": 8,
   "metadata": {},
   "outputs": [],
   "source": [
    "callbacks = [checkpoint, checkpoint_best, csv_logger, lr_scheduler]"
   ]
  },
  {
   "cell_type": "markdown",
   "metadata": {},
   "source": [
    "### Métricas"
   ]
  },
  {
   "cell_type": "code",
   "execution_count": 9,
   "metadata": {},
   "outputs": [],
   "source": [
    "def top_5_accuracy(y_true, y_pred):\n",
    "    return top_k_categorical_accuracy(y_true, y_pred, k=5)\n"
   ]
  },
  {
   "cell_type": "markdown",
   "metadata": {},
   "source": [
    "### Construindo modelo"
   ]
  },
  {
   "cell_type": "code",
   "execution_count": 10,
   "metadata": {},
   "outputs": [],
   "source": [
    "base_model = InceptionV3(input_shape=(299,299,3), weights='imagenet', include_top=False)\n",
    "x = GlobalAveragePooling2D()(base_model.output)\n",
    "output = Dense(len(validation_generator.class_indices), activation='softmax')(x)\n",
    "model = Model(inputs=[base_model.input], outputs=[output])"
   ]
  },
  {
   "cell_type": "code",
   "execution_count": 11,
   "metadata": {},
   "outputs": [],
   "source": [
    "for layer in model.layers:\n",
    "    layer.trainable = True"
   ]
  },
  {
   "cell_type": "code",
   "execution_count": 12,
   "metadata": {},
   "outputs": [],
   "source": [
    "optimizer = SGD(lr=training_config['lr'], momentum=0.9, decay=0)"
   ]
  },
  {
   "cell_type": "code",
   "execution_count": 13,
   "metadata": {},
   "outputs": [],
   "source": [
    "model.compile(optimizer=optimizer, loss='categorical_crossentropy', metrics=['accuracy', top_5_accuracy])"
   ]
  },
  {
   "cell_type": "code",
   "execution_count": 14,
   "metadata": {},
   "outputs": [],
   "source": [
    "current_epoch = 0"
   ]
  },
  {
   "cell_type": "markdown",
   "metadata": {},
   "source": [
    "### Treinando modelo"
   ]
  },
  {
   "cell_type": "code",
   "execution_count": 15,
   "metadata": {},
   "outputs": [
    {
     "name": "stdout",
     "output_type": "stream",
     "text": [
      "WARNING:tensorflow:sample_weight modes were coerced from\n",
      "  ...\n",
      "    to  \n",
      "  ['...']\n",
      "WARNING:tensorflow:sample_weight modes were coerced from\n",
      "  ...\n",
      "    to  \n",
      "  ['...']\n",
      "Train for 6365 steps, validate for 1773 steps\n",
      "Epoch 1/30\n",
      "WARNING:tensorflow:multiprocessing can interact badly with TensorFlow, causing nondeterministic deadlocks. For high performance data pipelines tf.data is recommended.\n",
      "6360/6365 [============================>.] - ETA: 1s - loss: 0.0953 - accuracy: 0.9686 - top_5_accuracy: 1.0000WARNING:tensorflow:multiprocessing can interact badly with TensorFlow, causing nondeterministic deadlocks. For high performance data pipelines tf.data is recommended.\n",
      "6365/6365 [==============================] - 2597s 408ms/step - loss: 0.0953 - accuracy: 0.9686 - top_5_accuracy: 1.0000 - val_loss: 0.0810 - val_accuracy: 0.9726 - val_top_5_accuracy: 1.0000\n",
      "Epoch 2/30\n",
      "WARNING:tensorflow:multiprocessing can interact badly with TensorFlow, causing nondeterministic deadlocks. For high performance data pipelines tf.data is recommended.\n",
      "6357/6365 [============================>.] - ETA: 2s - loss: 0.0662 - accuracy: 0.9763 - top_5_accuracy: 1.0000WARNING:tensorflow:multiprocessing can interact badly with TensorFlow, causing nondeterministic deadlocks. For high performance data pipelines tf.data is recommended.\n",
      "6365/6365 [==============================] - 1765s 277ms/step - loss: 0.0662 - accuracy: 0.9763 - top_5_accuracy: 1.0000 - val_loss: 0.0816 - val_accuracy: 0.9731 - val_top_5_accuracy: 1.0000\n",
      "Epoch 3/30\n",
      "WARNING:tensorflow:multiprocessing can interact badly with TensorFlow, causing nondeterministic deadlocks. For high performance data pipelines tf.data is recommended.\n",
      "6357/6365 [============================>.] - ETA: 1s - loss: 0.0541 - accuracy: 0.9802 - top_5_accuracy: 1.0000WARNING:tensorflow:multiprocessing can interact badly with TensorFlow, causing nondeterministic deadlocks. For high performance data pipelines tf.data is recommended.\n",
      "6365/6365 [==============================] - 1761s 277ms/step - loss: 0.0541 - accuracy: 0.9802 - top_5_accuracy: 1.0000 - val_loss: 0.0904 - val_accuracy: 0.9650 - val_top_5_accuracy: 1.0000\n",
      "Epoch 4/30\n",
      "WARNING:tensorflow:multiprocessing can interact badly with TensorFlow, causing nondeterministic deadlocks. For high performance data pipelines tf.data is recommended.\n",
      "6357/6365 [============================>.] - ETA: 1s - loss: 0.0469 - accuracy: 0.9823 - top_5_accuracy: 1.0000WARNING:tensorflow:multiprocessing can interact badly with TensorFlow, causing nondeterministic deadlocks. For high performance data pipelines tf.data is recommended.\n",
      "6365/6365 [==============================] - 1756s 276ms/step - loss: 0.0469 - accuracy: 0.9823 - top_5_accuracy: 1.0000 - val_loss: 0.0863 - val_accuracy: 0.9727 - val_top_5_accuracy: 1.0000\n",
      "Epoch 5/30\n",
      "WARNING:tensorflow:multiprocessing can interact badly with TensorFlow, causing nondeterministic deadlocks. For high performance data pipelines tf.data is recommended.\n",
      "6357/6365 [============================>.] - ETA: 1s - loss: 0.0429 - accuracy: 0.9838 - top_5_accuracy: 1.0000WARNING:tensorflow:multiprocessing can interact badly with TensorFlow, causing nondeterministic deadlocks. For high performance data pipelines tf.data is recommended.\n",
      "6365/6365 [==============================] - 1760s 277ms/step - loss: 0.0428 - accuracy: 0.9838 - top_5_accuracy: 1.0000 - val_loss: 0.0845 - val_accuracy: 0.9732 - val_top_5_accuracy: 1.0000\n",
      "Epoch 6/30\n",
      "WARNING:tensorflow:multiprocessing can interact badly with TensorFlow, causing nondeterministic deadlocks. For high performance data pipelines tf.data is recommended.\n",
      "6357/6365 [============================>.] - ETA: 1s - loss: 0.0389 - accuracy: 0.9852 - top_5_accuracy: 1.0000WARNING:tensorflow:multiprocessing can interact badly with TensorFlow, causing nondeterministic deadlocks. For high performance data pipelines tf.data is recommended.\n",
      "6365/6365 [==============================] - 1758s 276ms/step - loss: 0.0389 - accuracy: 0.9852 - top_5_accuracy: 1.0000 - val_loss: 0.0726 - val_accuracy: 0.9767 - val_top_5_accuracy: 1.0000\n",
      "Epoch 7/30\n",
      "WARNING:tensorflow:multiprocessing can interact badly with TensorFlow, causing nondeterministic deadlocks. For high performance data pipelines tf.data is recommended.\n",
      "6357/6365 [============================>.] - ETA: 1s - loss: 0.0274 - accuracy: 0.9897 - top_5_accuracy: 1.0000WARNING:tensorflow:multiprocessing can interact badly with TensorFlow, causing nondeterministic deadlocks. For high performance data pipelines tf.data is recommended.\n",
      "6365/6365 [==============================] - 1760s 276ms/step - loss: 0.0274 - accuracy: 0.9897 - top_5_accuracy: 1.0000 - val_loss: 0.0688 - val_accuracy: 0.9814 - val_top_5_accuracy: 1.0000\n",
      "Epoch 8/30\n",
      "WARNING:tensorflow:multiprocessing can interact badly with TensorFlow, causing nondeterministic deadlocks. For high performance data pipelines tf.data is recommended.\n",
      "6357/6365 [============================>.] - ETA: 1s - loss: 0.0245 - accuracy: 0.9906 - top_5_accuracy: 1.0000WARNING:tensorflow:multiprocessing can interact badly with TensorFlow, causing nondeterministic deadlocks. For high performance data pipelines tf.data is recommended.\n",
      "6365/6365 [==============================] - 1755s 276ms/step - loss: 0.0245 - accuracy: 0.9907 - top_5_accuracy: 1.0000 - val_loss: 0.0719 - val_accuracy: 0.9820 - val_top_5_accuracy: 1.0000\n",
      "Epoch 9/30\n",
      "WARNING:tensorflow:multiprocessing can interact badly with TensorFlow, causing nondeterministic deadlocks. For high performance data pipelines tf.data is recommended.\n",
      "2998/6365 [=============>................] - ETA: 13:57 - loss: 0.0222 - accuracy: 0.9915 - top_5_accuracy: 1.0000"
     ]
    },
    {
     "name": "stderr",
     "output_type": "stream",
     "text": [
      "IOPub message rate exceeded.\n",
      "The notebook server will temporarily stop sending output\n",
      "to the client in order to avoid crashing it.\n",
      "To change this limit, set the config variable\n",
      "`--NotebookApp.iopub_msg_rate_limit`.\n",
      "\n",
      "Current values:\n",
      "NotebookApp.iopub_msg_rate_limit=1000.0 (msgs/sec)\n",
      "NotebookApp.rate_limit_window=3.0 (secs)\n",
      "\n"
     ]
    },
    {
     "name": "stdout",
     "output_type": "stream",
     "text": [
      "6357/6365 [============================>.] - ETA: 1s - loss: 0.0219 - accuracy: 0.9916 - top_5_accuracy: 1.0000WARNING:tensorflow:multiprocessing can interact badly with TensorFlow, causing nondeterministic deadlocks. For high performance data pipelines tf.data is recommended.\n",
      "6365/6365 [==============================] - 1753s 275ms/step - loss: 0.0219 - accuracy: 0.9916 - top_5_accuracy: 1.0000 - val_loss: 0.0705 - val_accuracy: 0.9824 - val_top_5_accuracy: 1.0000\n",
      "Epoch 11/30\n",
      "WARNING:tensorflow:multiprocessing can interact badly with TensorFlow, causing nondeterministic deadlocks. For high performance data pipelines tf.data is recommended.\n",
      "2741/6365 [===========>..................] - ETA: 15:00 - loss: 0.0214 - accuracy: 0.9914 - top_5_accuracy: 1.0000"
     ]
    },
    {
     "name": "stderr",
     "output_type": "stream",
     "text": [
      "IOPub message rate exceeded.\n",
      "The notebook server will temporarily stop sending output\n",
      "to the client in order to avoid crashing it.\n",
      "To change this limit, set the config variable\n",
      "`--NotebookApp.iopub_msg_rate_limit`.\n",
      "\n",
      "Current values:\n",
      "NotebookApp.iopub_msg_rate_limit=1000.0 (msgs/sec)\n",
      "NotebookApp.rate_limit_window=3.0 (secs)\n",
      "\n"
     ]
    },
    {
     "name": "stdout",
     "output_type": "stream",
     "text": [
      "6357/6365 [============================>.] - ETA: 1s - loss: 0.0209 - accuracy: 0.9916 - top_5_accuracy: 1.0000WARNING:tensorflow:multiprocessing can interact badly with TensorFlow, causing nondeterministic deadlocks. For high performance data pipelines tf.data is recommended.\n",
      "6365/6365 [==============================] - 1756s 276ms/step - loss: 0.0209 - accuracy: 0.9916 - top_5_accuracy: 1.0000 - val_loss: 0.0644 - val_accuracy: 0.9840 - val_top_5_accuracy: 1.0000\n",
      "Epoch 12/30\n",
      "WARNING:tensorflow:multiprocessing can interact badly with TensorFlow, causing nondeterministic deadlocks. For high performance data pipelines tf.data is recommended.\n",
      "6357/6365 [============================>.] - ETA: 1s - loss: 0.0317 - accuracy: 0.9877 - top_5_accuracy: 1.0000WARNING:tensorflow:multiprocessing can interact badly with TensorFlow, causing nondeterministic deadlocks. For high performance data pipelines tf.data is recommended.\n",
      "6365/6365 [==============================] - 1753s 275ms/step - loss: 0.0317 - accuracy: 0.9877 - top_5_accuracy: 1.0000 - val_loss: 0.0566 - val_accuracy: 0.9825 - val_top_5_accuracy: 1.0000\n",
      "Epoch 13/30\n",
      "WARNING:tensorflow:multiprocessing can interact badly with TensorFlow, causing nondeterministic deadlocks. For high performance data pipelines tf.data is recommended.\n",
      "6357/6365 [============================>.] - ETA: 1s - loss: 0.0314 - accuracy: 0.9882 - top_5_accuracy: 1.0000WARNING:tensorflow:multiprocessing can interact badly with TensorFlow, causing nondeterministic deadlocks. For high performance data pipelines tf.data is recommended.\n",
      "6365/6365 [==============================] - 1755s 276ms/step - loss: 0.0314 - accuracy: 0.9882 - top_5_accuracy: 1.0000 - val_loss: 0.0711 - val_accuracy: 0.9788 - val_top_5_accuracy: 1.0000\n",
      "Epoch 14/30\n",
      "WARNING:tensorflow:multiprocessing can interact badly with TensorFlow, causing nondeterministic deadlocks. For high performance data pipelines tf.data is recommended.\n",
      "2998/6365 [=============>................] - ETA: 13:57 - loss: 0.0299 - accuracy: 0.9886 - top_5_accuracy: 1.0000"
     ]
    },
    {
     "name": "stderr",
     "output_type": "stream",
     "text": [
      "IOPub message rate exceeded.\n",
      "The notebook server will temporarily stop sending output\n",
      "to the client in order to avoid crashing it.\n",
      "To change this limit, set the config variable\n",
      "`--NotebookApp.iopub_msg_rate_limit`.\n",
      "\n",
      "Current values:\n",
      "NotebookApp.iopub_msg_rate_limit=1000.0 (msgs/sec)\n",
      "NotebookApp.rate_limit_window=3.0 (secs)\n",
      "\n"
     ]
    },
    {
     "name": "stdout",
     "output_type": "stream",
     "text": [
      "6357/6365 [============================>.] - ETA: 1s - loss: 0.0283 - accuracy: 0.9890 - top_5_accuracy: 1.0000WARNING:tensorflow:multiprocessing can interact badly with TensorFlow, causing nondeterministic deadlocks. For high performance data pipelines tf.data is recommended.\n",
      "6365/6365 [==============================] - 1755s 276ms/step - loss: 0.0283 - accuracy: 0.9890 - top_5_accuracy: 1.0000 - val_loss: 0.0684 - val_accuracy: 0.9810 - val_top_5_accuracy: 1.0000\n",
      "Epoch 16/30\n",
      "WARNING:tensorflow:multiprocessing can interact badly with TensorFlow, causing nondeterministic deadlocks. For high performance data pipelines tf.data is recommended.\n",
      "2784/6365 [============>.................] - ETA: 14:51 - loss: 0.0278 - accuracy: 0.9895 - top_5_accuracy: 1.0000"
     ]
    },
    {
     "name": "stderr",
     "output_type": "stream",
     "text": [
      "IOPub message rate exceeded.\n",
      "The notebook server will temporarily stop sending output\n",
      "to the client in order to avoid crashing it.\n",
      "To change this limit, set the config variable\n",
      "`--NotebookApp.iopub_msg_rate_limit`.\n",
      "\n",
      "Current values:\n",
      "NotebookApp.iopub_msg_rate_limit=1000.0 (msgs/sec)\n",
      "NotebookApp.rate_limit_window=3.0 (secs)\n",
      "\n"
     ]
    },
    {
     "name": "stdout",
     "output_type": "stream",
     "text": [
      "6357/6365 [============================>.] - ETA: 1s - loss: 0.0256 - accuracy: 0.9902 - top_5_accuracy: 1.0000WARNING:tensorflow:multiprocessing can interact badly with TensorFlow, causing nondeterministic deadlocks. For high performance data pipelines tf.data is recommended.\n",
      "6365/6365 [==============================] - 1755s 276ms/step - loss: 0.0256 - accuracy: 0.9902 - top_5_accuracy: 1.0000 - val_loss: 0.0783 - val_accuracy: 0.9803 - val_top_5_accuracy: 1.0000\n",
      "Epoch 18/30\n",
      "WARNING:tensorflow:multiprocessing can interact badly with TensorFlow, causing nondeterministic deadlocks. For high performance data pipelines tf.data is recommended.\n",
      "6357/6365 [============================>.] - ETA: 1s - loss: 0.0255 - accuracy: 0.9901 - top_5_accuracy: 1.0000WARNING:tensorflow:multiprocessing can interact badly with TensorFlow, causing nondeterministic deadlocks. For high performance data pipelines tf.data is recommended.\n",
      "6365/6365 [==============================] - 1755s 276ms/step - loss: 0.0255 - accuracy: 0.9901 - top_5_accuracy: 1.0000 - val_loss: 0.0830 - val_accuracy: 0.9783 - val_top_5_accuracy: 1.0000\n",
      "Epoch 19/30\n",
      "WARNING:tensorflow:multiprocessing can interact badly with TensorFlow, causing nondeterministic deadlocks. For high performance data pipelines tf.data is recommended.\n",
      "6357/6365 [============================>.] - ETA: 1s - loss: 0.0244 - accuracy: 0.9906 - top_5_accuracy: 1.0000WARNING:tensorflow:multiprocessing can interact badly with TensorFlow, causing nondeterministic deadlocks. For high performance data pipelines tf.data is recommended.\n",
      "6365/6365 [==============================] - 1752s 275ms/step - loss: 0.0244 - accuracy: 0.9906 - top_5_accuracy: 1.0000 - val_loss: 0.0586 - val_accuracy: 0.9838 - val_top_5_accuracy: 1.0000\n",
      "Epoch 20/30\n",
      "WARNING:tensorflow:multiprocessing can interact badly with TensorFlow, causing nondeterministic deadlocks. For high performance data pipelines tf.data is recommended.\n",
      "6357/6365 [============================>.] - ETA: 1s - loss: 0.0237 - accuracy: 0.9908 - top_5_accuracy: 1.0000WARNING:tensorflow:multiprocessing can interact badly with TensorFlow, causing nondeterministic deadlocks. For high performance data pipelines tf.data is recommended.\n",
      "6365/6365 [==============================] - 1756s 276ms/step - loss: 0.0237 - accuracy: 0.9908 - top_5_accuracy: 1.0000 - val_loss: 0.0705 - val_accuracy: 0.9849 - val_top_5_accuracy: 1.0000\n",
      "Epoch 21/30\n",
      "WARNING:tensorflow:multiprocessing can interact badly with TensorFlow, causing nondeterministic deadlocks. For high performance data pipelines tf.data is recommended.\n",
      "6357/6365 [============================>.] - ETA: 1s - loss: 0.0223 - accuracy: 0.9914 - top_5_accuracy: 1.0000WARNING:tensorflow:multiprocessing can interact badly with TensorFlow, causing nondeterministic deadlocks. For high performance data pipelines tf.data is recommended.\n",
      "6365/6365 [==============================] - 1752s 275ms/step - loss: 0.0224 - accuracy: 0.9914 - top_5_accuracy: 1.0000 - val_loss: 0.0548 - val_accuracy: 0.9860 - val_top_5_accuracy: 1.0000\n",
      "Epoch 22/30\n",
      "WARNING:tensorflow:multiprocessing can interact badly with TensorFlow, causing nondeterministic deadlocks. For high performance data pipelines tf.data is recommended.\n",
      "6357/6365 [============================>.] - ETA: 1s - loss: 0.0170 - accuracy: 0.9933 - top_5_accuracy: 1.0000WARNING:tensorflow:multiprocessing can interact badly with TensorFlow, causing nondeterministic deadlocks. For high performance data pipelines tf.data is recommended.\n",
      "6365/6365 [==============================] - 1752s 275ms/step - loss: 0.0170 - accuracy: 0.9933 - top_5_accuracy: 1.0000 - val_loss: 0.0696 - val_accuracy: 0.9859 - val_top_5_accuracy: 1.0000\n",
      "Epoch 23/30\n",
      "WARNING:tensorflow:multiprocessing can interact badly with TensorFlow, causing nondeterministic deadlocks. For high performance data pipelines tf.data is recommended.\n",
      "6357/6365 [============================>.] - ETA: 1s - loss: 0.0154 - accuracy: 0.9940 - top_5_accuracy: 1.0000WARNING:tensorflow:multiprocessing can interact badly with TensorFlow, causing nondeterministic deadlocks. For high performance data pipelines tf.data is recommended.\n",
      "6365/6365 [==============================] - 1753s 275ms/step - loss: 0.0154 - accuracy: 0.9940 - top_5_accuracy: 1.0000 - val_loss: 0.0733 - val_accuracy: 0.9850 - val_top_5_accuracy: 1.0000\n",
      "Epoch 24/30\n",
      "WARNING:tensorflow:multiprocessing can interact badly with TensorFlow, causing nondeterministic deadlocks. For high performance data pipelines tf.data is recommended.\n",
      "6357/6365 [============================>.] - ETA: 1s - loss: 0.0147 - accuracy: 0.9942 - top_5_accuracy: 1.0000WARNING:tensorflow:multiprocessing can interact badly with TensorFlow, causing nondeterministic deadlocks. For high performance data pipelines tf.data is recommended.\n",
      "6365/6365 [==============================] - 1753s 275ms/step - loss: 0.0147 - accuracy: 0.9942 - top_5_accuracy: 1.0000 - val_loss: 0.0641 - val_accuracy: 0.9868 - val_top_5_accuracy: 1.0000\n",
      "Epoch 25/30\n",
      "WARNING:tensorflow:multiprocessing can interact badly with TensorFlow, causing nondeterministic deadlocks. For high performance data pipelines tf.data is recommended.\n",
      " 963/6365 [===>..........................] - ETA: 22:25 - loss: 0.0142 - accuracy: 0.9938 - top_5_accuracy: 1.0000"
     ]
    },
    {
     "name": "stderr",
     "output_type": "stream",
     "text": [
      "IOPub message rate exceeded.\n",
      "The notebook server will temporarily stop sending output\n",
      "to the client in order to avoid crashing it.\n",
      "To change this limit, set the config variable\n",
      "`--NotebookApp.iopub_msg_rate_limit`.\n",
      "\n",
      "Current values:\n",
      "NotebookApp.iopub_msg_rate_limit=1000.0 (msgs/sec)\n",
      "NotebookApp.rate_limit_window=3.0 (secs)\n",
      "\n"
     ]
    },
    {
     "name": "stdout",
     "output_type": "stream",
     "text": [
      "6357/6365 [============================>.] - ETA: 1s - loss: 0.0137 - accuracy: 0.9944 - top_5_accuracy: 1.0000WARNING:tensorflow:multiprocessing can interact badly with TensorFlow, causing nondeterministic deadlocks. For high performance data pipelines tf.data is recommended.\n",
      "6365/6365 [==============================] - 1755s 276ms/step - loss: 0.0137 - accuracy: 0.9944 - top_5_accuracy: 1.0000 - val_loss: 0.0810 - val_accuracy: 0.9856 - val_top_5_accuracy: 1.0000\n",
      "Epoch 27/30\n",
      "WARNING:tensorflow:multiprocessing can interact badly with TensorFlow, causing nondeterministic deadlocks. For high performance data pipelines tf.data is recommended.\n",
      "2825/6365 [============>.................] - ETA: 14:36 - loss: 0.0130 - accuracy: 0.9949 - top_5_accuracy: 1.0000"
     ]
    },
    {
     "name": "stderr",
     "output_type": "stream",
     "text": [
      "IOPub message rate exceeded.\n",
      "The notebook server will temporarily stop sending output\n",
      "to the client in order to avoid crashing it.\n",
      "To change this limit, set the config variable\n",
      "`--NotebookApp.iopub_msg_rate_limit`.\n",
      "\n",
      "Current values:\n",
      "NotebookApp.iopub_msg_rate_limit=1000.0 (msgs/sec)\n",
      "NotebookApp.rate_limit_window=3.0 (secs)\n",
      "\n"
     ]
    },
    {
     "name": "stdout",
     "output_type": "stream",
     "text": [
      "4613/6365 [====================>.........] - ETA: 7:14 - loss: 0.0122 - accuracy: 0.9951 - top_5_accuracy: 1.0000"
     ]
    },
    {
     "name": "stderr",
     "output_type": "stream",
     "text": [
      "IOPub message rate exceeded.\n",
      "The notebook server will temporarily stop sending output\n",
      "to the client in order to avoid crashing it.\n",
      "To change this limit, set the config variable\n",
      "`--NotebookApp.iopub_msg_rate_limit`.\n",
      "\n",
      "Current values:\n",
      "NotebookApp.iopub_msg_rate_limit=1000.0 (msgs/sec)\n",
      "NotebookApp.rate_limit_window=3.0 (secs)\n",
      "\n"
     ]
    }
   ],
   "source": [
    "history = model.fit(\n",
    "            train_generator,\n",
    "            steps_per_epoch=train_generator.n // training_config['batch_size'],\n",
    "            epochs=training_config['epochs'],\n",
    "            validation_data=validation_generator,\n",
    "            validation_steps=validation_generator.n // training_config['batch_size'],\n",
    "            callbacks=callbacks,\n",
    "            initial_epoch=current_epoch,\n",
    "            use_multiprocessing=True,\n",
    "            workers=8)"
   ]
  },
  {
   "cell_type": "markdown",
   "metadata": {},
   "source": [
    "### Analisando dados de treinamento"
   ]
  },
  {
   "cell_type": "code",
   "execution_count": 16,
   "metadata": {},
   "outputs": [],
   "source": [
    "import matplotlib.pyplot as plt\n",
    "%matplotlib inline"
   ]
  },
  {
   "cell_type": "code",
   "execution_count": 17,
   "metadata": {},
   "outputs": [
    {
     "data": {
      "image/png": "[encoded data removed]",
      "text/plain": [
       "<Figure size 432x288 with 1 Axes>"
      ]
     },
     "metadata": {
      "needs_background": "light"
     },
     "output_type": "display_data"
    },
    {
     "data": {
      "image/png": "[encoded data removed]",
      "text/plain": [
       "<Figure size 432x288 with 1 Axes>"
      ]
     },
     "metadata": {
      "needs_background": "light"
     },
     "output_type": "display_data"
    }
   ],
   "source": [
    "plt.plot(history.history['accuracy'])\n",
    "plt.plot(history.history['val_accuracy'])\n",
    "plt.title('model accuracy')\n",
    "plt.ylabel('accuracy')\n",
    "plt.xlabel('epoch')\n",
    "plt.legend(['train', 'test'], loc='upper left')\n",
    "plt.show()\n",
    "# summarize history for loss\n",
    "plt.plot(history.history['loss'])\n",
    "plt.plot(history.history['val_loss'])\n",
    "plt.title('model loss')\n",
    "plt.ylabel('loss')\n",
    "plt.xlabel('epoch')\n",
    "plt.legend(['train', 'test'], loc='upper left')\n",
    "plt.show()"
   ]
  },
  {
   "cell_type": "markdown",
   "metadata": {},
   "source": [
    "## Gerando matrix de confusão"
   ]
  },
  {
   "cell_type": "code",
   "execution_count": 18,
   "metadata": {},
   "outputs": [
    {
     "name": "stdout",
     "output_type": "stream",
     "text": [
      "WARNING:tensorflow:From <ipython-input-18-9f2f2ab732f6>:3: Model.predict_generator (from tensorflow.python.keras.engine.training) is deprecated and will be removed in a future version.\n",
      "Instructions for updating:\n",
      "Please use Model.predict, which supports generators.\n",
      "WARNING:tensorflow:Your input ran out of data; interrupting training. Make sure that your dataset or generator can generate at least `steps_per_epoch * epochs` batches (in this case, 1774 batches). You may need to use the repeat() function when building your dataset.\n",
      "Confusion Matrix\n",
      "[[ 2397  8889]\n",
      " [ 9597 35853]]\n"
     ]
    }
   ],
   "source": [
    "import numpy as np\n",
    "from sklearn.metrics import classification_report, confusion_matrix\n",
    "Y_pred = model.predict_generator(validation_generator, validation_generator.n // training_config['batch_size']+1)\n",
    "y_pred = np.argmax(Y_pred, axis=1)\n",
    "print('Confusion Matrix')\n",
    "print(confusion_matrix(validation_generator.classes, y_pred))"
   ]
  },
  {
   "cell_type": "code",
   "execution_count": 19,
   "metadata": {},
   "outputs": [
    {
     "name": "stdout",
     "output_type": "stream",
     "text": [
      "Classification Report\n",
      "              precision    recall  f1-score   support\n",
      "\n",
      "       empty       0.20      0.21      0.21     11286\n",
      "     noempty       0.80      0.79      0.80     45450\n",
      "\n",
      "    accuracy                           0.67     56736\n",
      "   macro avg       0.50      0.50      0.50     56736\n",
      "weighted avg       0.68      0.67      0.68     56736\n",
      "\n"
     ]
    }
   ],
   "source": [
    "print('Classification Report')\n",
    "target_names = ['empty', 'noempty']\n",
    "print(classification_report(validation_generator.classes, y_pred, target_names=target_names))"
   ]
  },
  {
   "cell_type": "code",
   "execution_count": 27,
   "metadata": {},
   "outputs": [
    {
     "name": "stdout",
     "output_type": "stream",
     "text": [
      "Acurácia: 0.6742\n",
      "Sensitividade: 0.2124\n",
      "Especificidade: 0.7888\n"
     ]
    },
    {
     "data": {
      "image/png": "[encoded data removed]",
      "text/plain": [
       "<Figure size 360x360 with 1 Axes>"
      ]
     },
     "metadata": {
      "needs_background": "light"
     },
     "output_type": "display_data"
    }
   ],
   "source": [
    "cm=confusion_matrix(validation_generator.classes, y_pred)\n",
    "total = sum(sum(cm))\n",
    "acc = (cm[0, 0] + cm[1, 1]) / total\n",
    "sensitivity = cm[0, 0] / (cm[0, 0] + cm[0, 1])\n",
    "specificity = cm[1, 1] / (cm[1, 0] + cm[1, 1])\n",
    "\n",
    "print(\"Acurácia: {:.4f}\".format(acc))\n",
    "print(\"Sensitividade: {:.4f}\".format(sensitivity))\n",
    "print(\"Especificidade: {:.4f}\".format(specificity))\n",
    "\n",
    "from mlxtend.plotting import plot_confusion_matrix\n",
    "fig, ax = plot_confusion_matrix(conf_mat=cm ,  figsize=(5, 5))\n",
    "plt.show()"
   ]
  }
 ],
 "metadata": {
  "kernelspec": {
   "display_name": "Python 3",
   "language": "python",
   "name": "python3"
  },
  "language_info": {
   "codemirror_mode": {
    "name": "ipython",
    "version": 3
   },
   "file_extension": ".py",
   "mimetype": "text/x-python",
   "name": "python",
   "nbconvert_exporter": "python",
   "pygments_lexer": "ipython3",
   "version": "3.6.7"
  }
 },
 "nbformat": 4,
 "nbformat_minor": 4
}
