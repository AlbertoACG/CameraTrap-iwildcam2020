{
 "cells": [
  {
   "cell_type": "code",
   "execution_count": 166,
   "metadata": {},
   "outputs": [],
   "source": [
    "import os\n",
    "\n",
    "import keras\n",
    "\n",
    "from classification_models.keras import Classifiers\n",
    "from keras.preprocessing.image import ImageDataGenerator\n",
    "from keras.layers import GlobalAveragePooling2D, Dense\n",
    "from keras.models import Model\n",
    "from keras.callbacks import ModelCheckpoint, CSVLogger, LearningRateScheduler\n",
    "from keras.metrics import top_k_categorical_accuracy\n",
    "from keras.optimizers import SGD"
   ]
  },
  {
   "cell_type": "markdown",
   "metadata": {},
   "source": [
    "### Configurações de treino"
   ]
  },
  {
   "cell_type": "code",
   "execution_count": 167,
   "metadata": {},
   "outputs": [],
   "source": [
    "def tl_scheduler(epoch):\n",
    "    if epoch < 6:\n",
    "        return 0.005\n",
    "    elif epoch < 11:\n",
    "        return 0.001\n",
    "    elif epoch < 21:\n",
    "        return 0.005\n",
    "    elif epoch < 28:\n",
    "        return 0.001\n",
    "    elif epoch < 36:\n",
    "        return 0.0005\n",
    "    else:\n",
    "        return 0.0001\n"
   ]
  },
  {
   "cell_type": "code",
   "execution_count": 168,
   "metadata": {},
   "outputs": [],
   "source": [
    "training_config = {\n",
    "    'batch_size': 128,\n",
    "    'target_size': (224,224),\n",
    "    'epochs': 1,\n",
    "    'lr': 0.005,\n",
    "    'decay': 0,\n",
    "    'seed': 42\n",
    "}"
   ]
  },
  {
   "cell_type": "markdown",
   "metadata": {},
   "source": [
    "### Carregando Dataset"
   ]
  },
  {
   "cell_type": "code",
   "execution_count": 169,
   "metadata": {},
   "outputs": [],
   "source": [
    "experiments_path = '/data/alberto/iWildCam2020/experiments'\n",
    "experiment = 'resnet18_iwild205_21042020'"
   ]
  },
  {
   "cell_type": "code",
   "execution_count": 170,
   "metadata": {},
   "outputs": [],
   "source": [
    "train_dir = '/data/alberto/iWildCam2020/resized/train_resized'\n",
    "validation_dir = '/data/alberto/iWildCam2020/resized/validation_resized'"
   ]
  },
  {
   "cell_type": "code",
   "execution_count": 171,
   "metadata": {},
   "outputs": [
    {
     "name": "stdout",
     "output_type": "stream",
     "text": [
      "Found 203689 images belonging to 203 classes.\n",
      "Found 56736 images belonging to 203 classes.\n"
     ]
    }
   ],
   "source": [
    "train_datagen = ImageDataGenerator(rotation_range=20,\n",
    "                                   zoom_range=0.15,\n",
    "                                   width_shift_range=0.2,\n",
    "                                   height_shift_range=0.2,\n",
    "                                   shear_range=0.15,\n",
    "                                   horizontal_flip=True,\n",
    "                                   fill_mode=\"nearest\")\n",
    "\n",
    "validation_datagen = ImageDataGenerator()\n",
    "\n",
    "train_generator = train_datagen.flow_from_directory(\n",
    "        train_dir,\n",
    "        target_size=training_config['target_size'],\n",
    "        batch_size=training_config['batch_size'],\n",
    "        class_mode='categorical',\n",
    "        shuffle=True,\n",
    "        seed=training_config['seed'])\n",
    "\n",
    "validation_generator = validation_datagen.flow_from_directory(\n",
    "        validation_dir,\n",
    "        target_size=training_config['target_size'],\n",
    "        batch_size=training_config['batch_size'],\n",
    "        class_mode='categorical',\n",
    "        classes=sorted(list(train_generator.class_indices.keys())))"
   ]
  },
  {
   "cell_type": "markdown",
   "metadata": {},
   "source": [
    "### Calbacks"
   ]
  },
  {
   "cell_type": "code",
   "execution_count": 172,
   "metadata": {},
   "outputs": [],
   "source": [
    "model_path = os.path.join(experiments_path, experiment, 'models', 'weights.{epoch:02d}-{val_accuracy:.2f}.hdf5')\n",
    "if not os.path.exists(os.path.dirname(model_path)):\n",
    "    os.makedirs(os.path.dirname(model_path))\n",
    "\n",
    "checkpoint = ModelCheckpoint(\n",
    "    filepath=model_path,\n",
    "    monitor='val_accuracy'\n",
    ")\n",
    "\n",
    "checkpoint_best = ModelCheckpoint(\n",
    "    filepath=os.path.join(experiments_path, experiment, 'models', 'best.hdf5'),\n",
    "    save_best_only=True,\n",
    "    monitor='val_accuracy'\n",
    ")\n",
    "\n",
    "csv_path = os.path.join(experiments_path, experiment, 'history', 'training.log')\n",
    "if not os.path.exists(os.path.dirname(csv_path)):\n",
    "    os.makedirs(os.path.dirname(csv_path))\n",
    "\n",
    "csv_logger = CSVLogger(csv_path, append=True)\n",
    "\n",
    "lr_scheduler = LearningRateScheduler(tl_scheduler)"
   ]
  },
  {
   "cell_type": "code",
   "execution_count": 173,
   "metadata": {},
   "outputs": [],
   "source": [
    "callbacks = [checkpoint, checkpoint_best, csv_logger, lr_scheduler]"
   ]
  },
  {
   "cell_type": "markdown",
   "metadata": {},
   "source": [
    "### Definindo Métricas"
   ]
  },
  {
   "cell_type": "code",
   "execution_count": 174,
   "metadata": {},
   "outputs": [],
   "source": [
    "def top_5_accuracy(y_true, y_pred):\n",
    "    return top_k_categorical_accuracy(y_true, y_pred, k=5)"
   ]
  },
  {
   "cell_type": "markdown",
   "metadata": {},
   "source": [
    "### Preparando modelo "
   ]
  },
  {
   "cell_type": "code",
   "execution_count": 175,
   "metadata": {},
   "outputs": [],
   "source": [
    "ResNet18, preprocess_input = Classifiers.get('resnet18')"
   ]
  },
  {
   "cell_type": "code",
   "execution_count": 176,
   "metadata": {},
   "outputs": [],
   "source": [
    "base_model = ResNet18(input_shape=(224,224,3), weights='imagenet', include_top=False)\n",
    "x = GlobalAveragePooling2D()(base_model.output)\n",
    "output = Dense(len(validation_generator.class_indices), activation='softmax')(x)\n",
    "model = Model(inputs=[base_model.input], outputs=[output])"
   ]
  },
  {
   "cell_type": "code",
   "execution_count": 177,
   "metadata": {},
   "outputs": [],
   "source": [
    "for layer in model.layers:\n",
    "    layer.trainable = True"
   ]
  },
  {
   "cell_type": "code",
   "execution_count": 178,
   "metadata": {},
   "outputs": [],
   "source": [
    "optimizer = SGD(lr=training_config['lr'], momentum=0.9, decay=0)"
   ]
  },
  {
   "cell_type": "code",
   "execution_count": 179,
   "metadata": {},
   "outputs": [],
   "source": [
    "model.compile(optimizer=optimizer, loss='categorical_crossentropy', metrics=['accuracy', top_5_accuracy])"
   ]
  },
  {
   "cell_type": "code",
   "execution_count": 180,
   "metadata": {},
   "outputs": [],
   "source": [
    "current_epoch = 0"
   ]
  },
  {
   "cell_type": "markdown",
   "metadata": {},
   "source": [
    "### Treinando modelo"
   ]
  },
  {
   "cell_type": "code",
   "execution_count": 181,
   "metadata": {},
   "outputs": [
    {
     "name": "stdout",
     "output_type": "stream",
     "text": [
      "Epoch 1/1\n",
      "1591/1591 [==============================] - 15668s 10s/step - loss: 0.9511 - accuracy: 0.7532 - top_5_accuracy: 0.9115 - val_loss: 0.8443 - val_accuracy: 0.7442 - val_top_5_accuracy: 0.9195\n"
     ]
    }
   ],
   "source": [
    "history = model.fit_generator(\n",
    "            train_generator,\n",
    "            steps_per_epoch=train_generator.n // training_config['batch_size'],\n",
    "            epochs=training_config['epochs'],\n",
    "            validation_data=validation_generator,\n",
    "            validation_steps=validation_generator.n // training_config['batch_size'],\n",
    "            callbacks=callbacks,\n",
    "            initial_epoch=current_epoch,\n",
    "            use_multiprocessing=True,\n",
    "            workers=8)"
   ]
  },
  {
   "cell_type": "code",
   "execution_count": null,
   "metadata": {},
   "outputs": [],
   "source": []
  }
 ],
 "metadata": {
  "kernelspec": {
   "display_name": "Python 2",
   "language": "python",
   "name": "python2"
  },
  "language_info": {
   "codemirror_mode": {
    "name": "ipython",
    "version": 3
   },
   "file_extension": ".py",
   "mimetype": "text/x-python",
   "name": "python",
   "nbconvert_exporter": "python",
   "pygments_lexer": "ipython3",
   "version": "3.6.7"
  }
 },
 "nbformat": 4,
 "nbformat_minor": 4
}
