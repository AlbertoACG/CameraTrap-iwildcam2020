{
 "cells": [
  {
   "cell_type": "code",
   "execution_count": 1,
   "metadata": {},
   "outputs": [
    {
     "name": "stderr",
     "output_type": "stream",
     "text": [
      "Using TensorFlow backend.\n"
     ]
    }
   ],
   "source": [
    "import os\n",
    "\n",
    "import keras\n",
    "\n",
    "from classification_models.keras import Classifiers\n",
    "from keras.preprocessing.image import ImageDataGenerator\n",
    "from keras.layers import GlobalAveragePooling2D, Dense\n",
    "from keras.models import Model\n",
    "from keras.callbacks import ModelCheckpoint, CSVLogger, LearningRateScheduler\n",
    "from keras.metrics import top_k_categorical_accuracy\n",
    "from keras.optimizers import SGD"
   ]
  },
  {
   "cell_type": "markdown",
   "metadata": {},
   "source": [
    "### Configurações de treino"
   ]
  },
  {
   "cell_type": "code",
   "execution_count": 2,
   "metadata": {},
   "outputs": [],
   "source": [
    "def tl_scheduler(epoch):\n",
    "    if epoch < 6:\n",
    "        return 0.005\n",
    "    elif epoch < 11:\n",
    "        return 0.001\n",
    "    elif epoch < 21:\n",
    "        return 0.005\n",
    "    elif epoch < 28:\n",
    "        return 0.001\n",
    "    elif epoch < 36:\n",
    "        return 0.0005\n",
    "    else:\n",
    "        return 0.0001\n"
   ]
  },
  {
   "cell_type": "code",
   "execution_count": 3,
   "metadata": {},
   "outputs": [],
   "source": [
    "training_config = {\n",
    "    'batch_size': 128,\n",
    "    'target_size': (224,224),\n",
    "    'epochs': 55,\n",
    "    'lr': 0.005,\n",
    "    'decay': 0,\n",
    "    'seed': 42\n",
    "}"
   ]
  },
  {
   "cell_type": "markdown",
   "metadata": {},
   "source": [
    "### Carregando Dataset"
   ]
  },
  {
   "cell_type": "code",
   "execution_count": 4,
   "metadata": {},
   "outputs": [],
   "source": [
    "experiments_path = '/data/alberto/iWildCam2020/experiments'\n",
    "experiment = 'resnet18_iwild205_21042020'"
   ]
  },
  {
   "cell_type": "code",
   "execution_count": 5,
   "metadata": {},
   "outputs": [],
   "source": [
    "train_dir = '/data/alberto/iWildCam2020/resized/train_resized'\n",
    "validation_dir = '/data/alberto/iWildCam2020/resized/validation_resized'"
   ]
  },
  {
   "cell_type": "code",
   "execution_count": 6,
   "metadata": {},
   "outputs": [
    {
     "name": "stdout",
     "output_type": "stream",
     "text": [
      "Found 203689 images belonging to 203 classes.\n",
      "Found 56736 images belonging to 203 classes.\n"
     ]
    }
   ],
   "source": [
    "train_datagen = ImageDataGenerator(rotation_range=20,\n",
    "                                   zoom_range=0.15,\n",
    "                                   width_shift_range=0.2,\n",
    "                                   height_shift_range=0.2,\n",
    "                                   shear_range=0.15,\n",
    "                                   horizontal_flip=True,\n",
    "                                   fill_mode=\"nearest\")\n",
    "\n",
    "validation_datagen = ImageDataGenerator()\n",
    "\n",
    "train_generator = train_datagen.flow_from_directory(\n",
    "        train_dir,\n",
    "        target_size=training_config['target_size'],\n",
    "        batch_size=training_config['batch_size'],\n",
    "        class_mode='categorical',\n",
    "        shuffle=True,\n",
    "        seed=training_config['seed'])\n",
    "\n",
    "validation_generator = validation_datagen.flow_from_directory(\n",
    "        validation_dir,\n",
    "        target_size=training_config['target_size'],\n",
    "        batch_size=training_config['batch_size'],\n",
    "        class_mode='categorical',\n",
    "        classes=sorted(list(train_generator.class_indices.keys())))"
   ]
  },
  {
   "cell_type": "markdown",
   "metadata": {},
   "source": [
    "### Calbacks"
   ]
  },
  {
   "cell_type": "code",
   "execution_count": 7,
   "metadata": {},
   "outputs": [],
   "source": [
    "model_path = os.path.join(experiments_path, experiment, 'models', 'weights.{epoch:02d}-{val_accuracy:.2f}.hdf5')\n",
    "if not os.path.exists(os.path.dirname(model_path)):\n",
    "    os.makedirs(os.path.dirname(model_path))\n",
    "\n",
    "checkpoint = ModelCheckpoint(\n",
    "    filepath=model_path,\n",
    "    monitor='val_accuracy'\n",
    ")\n",
    "\n",
    "checkpoint_best = ModelCheckpoint(\n",
    "    filepath=os.path.join(experiments_path, experiment, 'models', 'best.hdf5'),\n",
    "    save_best_only=True,\n",
    "    monitor='val_accuracy'\n",
    ")\n",
    "\n",
    "csv_path = os.path.join(experiments_path, experiment, 'history', 'training.log')\n",
    "if not os.path.exists(os.path.dirname(csv_path)):\n",
    "    os.makedirs(os.path.dirname(csv_path))\n",
    "\n",
    "csv_logger = CSVLogger(csv_path, append=True)\n",
    "\n",
    "lr_scheduler = LearningRateScheduler(tl_scheduler)"
   ]
  },
  {
   "cell_type": "code",
   "execution_count": 8,
   "metadata": {},
   "outputs": [],
   "source": [
    "callbacks = [checkpoint, checkpoint_best, csv_logger, lr_scheduler]"
   ]
  },
  {
   "cell_type": "markdown",
   "metadata": {},
   "source": [
    "### Definindo Métricas"
   ]
  },
  {
   "cell_type": "code",
   "execution_count": 9,
   "metadata": {},
   "outputs": [],
   "source": [
    "def top_5_accuracy(y_true, y_pred):\n",
    "    return top_k_categorical_accuracy(y_true, y_pred, k=5)"
   ]
  },
  {
   "cell_type": "markdown",
   "metadata": {},
   "source": [
    "### Preparando modelo "
   ]
  },
  {
   "cell_type": "code",
   "execution_count": 10,
   "metadata": {},
   "outputs": [],
   "source": [
    "ResNet18, preprocess_input = Classifiers.get('resnet18')"
   ]
  },
  {
   "cell_type": "code",
   "execution_count": 11,
   "metadata": {},
   "outputs": [],
   "source": [
    "base_model = ResNet18(input_shape=(224,224,3), weights='imagenet', include_top=False)\n",
    "x = GlobalAveragePooling2D()(base_model.output)\n",
    "output = Dense(len(validation_generator.class_indices), activation='softmax')(x)\n",
    "model = Model(inputs=[base_model.input], outputs=[output])"
   ]
  },
  {
   "cell_type": "code",
   "execution_count": 12,
   "metadata": {},
   "outputs": [],
   "source": [
    "for layer in model.layers:\n",
    "    layer.trainable = True"
   ]
  },
  {
   "cell_type": "code",
   "execution_count": 13,
   "metadata": {},
   "outputs": [],
   "source": [
    "optimizer = SGD(lr=training_config['lr'], momentum=0.9, decay=0)"
   ]
  },
  {
   "cell_type": "code",
   "execution_count": 14,
   "metadata": {},
   "outputs": [],
   "source": [
    "model.compile(optimizer=optimizer, loss='categorical_crossentropy', metrics=['accuracy', top_5_accuracy])"
   ]
  },
  {
   "cell_type": "code",
   "execution_count": 15,
   "metadata": {},
   "outputs": [],
   "source": [
    "current_epoch = 0"
   ]
  },
  {
   "cell_type": "markdown",
   "metadata": {},
   "source": [
    "### Treinando modelo"
   ]
  },
  {
   "cell_type": "code",
   "execution_count": 16,
   "metadata": {},
   "outputs": [
    {
     "name": "stdout",
     "output_type": "stream",
     "text": [
      "Epoch 1/55\n",
      "1591/1591 [==============================] - 841s 528ms/step - loss: 0.9505 - accuracy: 0.7537 - top_5_accuracy: 0.9116 - val_loss: 0.7410 - val_accuracy: 0.7569 - val_top_5_accuracy: 0.9198\n",
      "Epoch 2/55\n",
      "1591/1591 [==============================] - 836s 525ms/step - loss: 0.5363 - accuracy: 0.8458 - top_5_accuracy: 0.9676 - val_loss: 0.7465 - val_accuracy: 0.7939 - val_top_5_accuracy: 0.9479\n",
      "Epoch 3/55\n",
      "1591/1591 [==============================] - 837s 526ms/step - loss: 0.4117 - accuracy: 0.8771 - top_5_accuracy: 0.9814 - val_loss: 0.5946 - val_accuracy: 0.8187 - val_top_5_accuracy: 0.9544\n",
      "Epoch 4/55\n",
      "1591/1591 [==============================] - 837s 526ms/step - loss: 0.3302 - accuracy: 0.8987 - top_5_accuracy: 0.9887 - val_loss: 0.5458 - val_accuracy: 0.8257 - val_top_5_accuracy: 0.9535\n",
      "Epoch 5/55\n",
      "1591/1591 [==============================] - 838s 527ms/step - loss: 0.2732 - accuracy: 0.9157 - top_5_accuracy: 0.9926 - val_loss: 0.9649 - val_accuracy: 0.8443 - val_top_5_accuracy: 0.9648\n",
      "Epoch 6/55\n",
      "1591/1591 [==============================] - 837s 526ms/step - loss: 0.2341 - accuracy: 0.9262 - top_5_accuracy: 0.9946 - val_loss: 0.6285 - val_accuracy: 0.8435 - val_top_5_accuracy: 0.9604\n",
      "Epoch 7/55\n",
      "1591/1591 [==============================] - 837s 526ms/step - loss: 0.1632 - accuracy: 0.9483 - top_5_accuracy: 0.9967 - val_loss: 0.5961 - val_accuracy: 0.8917 - val_top_5_accuracy: 0.9690\n",
      "Epoch 8/55\n",
      "1591/1591 [==============================] - 838s 526ms/step - loss: 0.1450 - accuracy: 0.9545 - top_5_accuracy: 0.9973 - val_loss: 0.3896 - val_accuracy: 0.8961 - val_top_5_accuracy: 0.9692\n",
      "Epoch 9/55\n",
      "1591/1591 [==============================] - 837s 526ms/step - loss: 0.1384 - accuracy: 0.9561 - top_5_accuracy: 0.9974 - val_loss: 0.3556 - val_accuracy: 0.8991 - val_top_5_accuracy: 0.9688\n",
      "Epoch 10/55\n",
      "1591/1591 [==============================] - 837s 526ms/step - loss: 0.1311 - accuracy: 0.9577 - top_5_accuracy: 0.9978 - val_loss: 0.4046 - val_accuracy: 0.8999 - val_top_5_accuracy: 0.9688\n",
      "Epoch 11/55\n",
      "1591/1591 [==============================] - 836s 526ms/step - loss: 0.1259 - accuracy: 0.9598 - top_5_accuracy: 0.9978 - val_loss: 0.3739 - val_accuracy: 0.9011 - val_top_5_accuracy: 0.9700\n",
      "Epoch 12/55\n",
      "1591/1591 [==============================] - 837s 526ms/step - loss: 0.1834 - accuracy: 0.9409 - top_5_accuracy: 0.9968 - val_loss: 0.4986 - val_accuracy: 0.8752 - val_top_5_accuracy: 0.9627\n",
      "Epoch 13/55\n",
      "1591/1591 [==============================] - 837s 526ms/step - loss: 0.1679 - accuracy: 0.9454 - top_5_accuracy: 0.9974 - val_loss: 0.6198 - val_accuracy: 0.8632 - val_top_5_accuracy: 0.9633\n",
      "Epoch 14/55\n",
      "1591/1591 [==============================] - 837s 526ms/step - loss: 0.1536 - accuracy: 0.9496 - top_5_accuracy: 0.9977 - val_loss: 0.6121 - val_accuracy: 0.8777 - val_top_5_accuracy: 0.9619\n",
      "Epoch 15/55\n",
      "1591/1591 [==============================] - 837s 526ms/step - loss: 0.1416 - accuracy: 0.9535 - top_5_accuracy: 0.9983 - val_loss: 0.5018 - val_accuracy: 0.8881 - val_top_5_accuracy: 0.9688\n",
      "Epoch 16/55\n",
      "1591/1591 [==============================] - 837s 526ms/step - loss: 0.1296 - accuracy: 0.9570 - top_5_accuracy: 0.9984 - val_loss: 0.7280 - val_accuracy: 0.8807 - val_top_5_accuracy: 0.9684\n",
      "Epoch 17/55\n",
      "1591/1591 [==============================] - 838s 526ms/step - loss: 0.1205 - accuracy: 0.9590 - top_5_accuracy: 0.9987 - val_loss: 0.3967 - val_accuracy: 0.8913 - val_top_5_accuracy: 0.9671\n",
      "Epoch 18/55\n",
      "1591/1591 [==============================] - 837s 526ms/step - loss: 0.1156 - accuracy: 0.9609 - top_5_accuracy: 0.9987 - val_loss: 0.6691 - val_accuracy: 0.8775 - val_top_5_accuracy: 0.9617\n",
      "Epoch 19/55\n",
      "1591/1591 [==============================] - 837s 526ms/step - loss: 0.1072 - accuracy: 0.9633 - top_5_accuracy: 0.9990 - val_loss: 0.5221 - val_accuracy: 0.9010 - val_top_5_accuracy: 0.9722\n",
      "Epoch 20/55\n",
      "1591/1591 [==============================] - 837s 526ms/step - loss: 0.1024 - accuracy: 0.9646 - top_5_accuracy: 0.9991 - val_loss: 0.4514 - val_accuracy: 0.8878 - val_top_5_accuracy: 0.9661\n",
      "Epoch 21/55\n",
      "1591/1591 [==============================] - 838s 527ms/step - loss: 0.0974 - accuracy: 0.9663 - top_5_accuracy: 0.9992 - val_loss: 0.7594 - val_accuracy: 0.9085 - val_top_5_accuracy: 0.9714\n",
      "Epoch 22/55\n",
      "1591/1591 [==============================] - 837s 526ms/step - loss: 0.0696 - accuracy: 0.9752 - top_5_accuracy: 0.9994 - val_loss: 0.5516 - val_accuracy: 0.9184 - val_top_5_accuracy: 0.9712\n",
      "Epoch 23/55\n",
      "1591/1591 [==============================] - 837s 526ms/step - loss: 0.0621 - accuracy: 0.9773 - top_5_accuracy: 0.9994 - val_loss: 0.3460 - val_accuracy: 0.9214 - val_top_5_accuracy: 0.9711\n",
      "Epoch 24/55\n",
      "1591/1591 [==============================] - 837s 526ms/step - loss: 0.0587 - accuracy: 0.9784 - top_5_accuracy: 0.9995 - val_loss: 0.5760 - val_accuracy: 0.9166 - val_top_5_accuracy: 0.9693\n",
      "Epoch 25/55\n",
      "1591/1591 [==============================] - 837s 526ms/step - loss: 0.0571 - accuracy: 0.9789 - top_5_accuracy: 0.9995 - val_loss: 0.4475 - val_accuracy: 0.9171 - val_top_5_accuracy: 0.9693\n",
      "Epoch 26/55\n",
      "1591/1591 [==============================] - 838s 526ms/step - loss: 0.0558 - accuracy: 0.9791 - top_5_accuracy: 0.9995 - val_loss: 0.3651 - val_accuracy: 0.9179 - val_top_5_accuracy: 0.9694\n",
      "Epoch 27/55\n",
      "1591/1591 [==============================] - 837s 526ms/step - loss: 0.0552 - accuracy: 0.9789 - top_5_accuracy: 0.9996 - val_loss: 0.5642 - val_accuracy: 0.9182 - val_top_5_accuracy: 0.9701\n",
      "Epoch 28/55\n",
      "1591/1591 [==============================] - 838s 526ms/step - loss: 0.0538 - accuracy: 0.9797 - top_5_accuracy: 0.9995 - val_loss: 0.4821 - val_accuracy: 0.9206 - val_top_5_accuracy: 0.9703\n",
      "Epoch 29/55\n",
      "1591/1591 [==============================] - 838s 527ms/step - loss: 0.0515 - accuracy: 0.9801 - top_5_accuracy: 0.9996 - val_loss: 0.6317 - val_accuracy: 0.9179 - val_top_5_accuracy: 0.9697\n",
      "Epoch 30/55\n",
      "1591/1591 [==============================] - 837s 526ms/step - loss: 0.0501 - accuracy: 0.9811 - top_5_accuracy: 0.9996 - val_loss: 0.4820 - val_accuracy: 0.9203 - val_top_5_accuracy: 0.9709\n",
      "Epoch 31/55\n",
      "1591/1591 [==============================] - 837s 526ms/step - loss: 0.0501 - accuracy: 0.9809 - top_5_accuracy: 0.9996 - val_loss: 0.2122 - val_accuracy: 0.9195 - val_top_5_accuracy: 0.9698\n",
      "Epoch 32/55\n",
      "1591/1591 [==============================] - 838s 527ms/step - loss: 0.0497 - accuracy: 0.9809 - top_5_accuracy: 0.9996 - val_loss: 0.4851 - val_accuracy: 0.9194 - val_top_5_accuracy: 0.9703\n",
      "Epoch 33/55\n",
      "1591/1591 [==============================] - 837s 526ms/step - loss: 0.0493 - accuracy: 0.9811 - top_5_accuracy: 0.9996 - val_loss: 0.4688 - val_accuracy: 0.9198 - val_top_5_accuracy: 0.9706\n",
      "Epoch 34/55\n",
      "1591/1591 [==============================] - 837s 526ms/step - loss: 0.0488 - accuracy: 0.9816 - top_5_accuracy: 0.9996 - val_loss: 0.5506 - val_accuracy: 0.9214 - val_top_5_accuracy: 0.9699\n",
      "Epoch 35/55\n",
      "1591/1591 [==============================] - 838s 527ms/step - loss: 0.0486 - accuracy: 0.9814 - top_5_accuracy: 0.9996 - val_loss: 0.6762 - val_accuracy: 0.9206 - val_top_5_accuracy: 0.9704\n",
      "Epoch 36/55\n",
      "1591/1591 [==============================] - 837s 526ms/step - loss: 0.0479 - accuracy: 0.9816 - top_5_accuracy: 0.9996 - val_loss: 0.4820 - val_accuracy: 0.9203 - val_top_5_accuracy: 0.9701\n",
      "Epoch 37/55\n",
      "1591/1591 [==============================] - 837s 526ms/step - loss: 0.0467 - accuracy: 0.9821 - top_5_accuracy: 0.9997 - val_loss: 0.6017 - val_accuracy: 0.9205 - val_top_5_accuracy: 0.9707\n",
      "Epoch 38/55\n",
      "1591/1591 [==============================] - 837s 526ms/step - loss: 0.0461 - accuracy: 0.9819 - top_5_accuracy: 0.9997 - val_loss: 0.3187 - val_accuracy: 0.9204 - val_top_5_accuracy: 0.9698\n",
      "Epoch 39/55\n",
      "1591/1591 [==============================] - 837s 526ms/step - loss: 0.0458 - accuracy: 0.9822 - top_5_accuracy: 0.9996 - val_loss: 0.4938 - val_accuracy: 0.9214 - val_top_5_accuracy: 0.9705\n",
      "Epoch 40/55\n",
      "1591/1591 [==============================] - 837s 526ms/step - loss: 0.0456 - accuracy: 0.9824 - top_5_accuracy: 0.9997 - val_loss: 0.3680 - val_accuracy: 0.9211 - val_top_5_accuracy: 0.9703\n",
      "Epoch 41/55\n",
      "1591/1591 [==============================] - 837s 526ms/step - loss: 0.0455 - accuracy: 0.9823 - top_5_accuracy: 0.9997 - val_loss: 0.4900 - val_accuracy: 0.9212 - val_top_5_accuracy: 0.9703\n",
      "Epoch 42/55\n",
      "1591/1591 [==============================] - 838s 527ms/step - loss: 0.0451 - accuracy: 0.9826 - top_5_accuracy: 0.9996 - val_loss: 0.3156 - val_accuracy: 0.9215 - val_top_5_accuracy: 0.9708\n",
      "Epoch 43/55\n",
      "1591/1591 [==============================] - 837s 526ms/step - loss: 0.0455 - accuracy: 0.9823 - top_5_accuracy: 0.9996 - val_loss: 0.6903 - val_accuracy: 0.9204 - val_top_5_accuracy: 0.9703\n",
      "Epoch 44/55\n",
      "1591/1591 [==============================] - 837s 526ms/step - loss: 0.0455 - accuracy: 0.9823 - top_5_accuracy: 0.9997 - val_loss: 0.3681 - val_accuracy: 0.9200 - val_top_5_accuracy: 0.9697\n",
      "Epoch 45/55\n",
      "1591/1591 [==============================] - 837s 526ms/step - loss: 0.0455 - accuracy: 0.9823 - top_5_accuracy: 0.9997 - val_loss: 0.6355 - val_accuracy: 0.9209 - val_top_5_accuracy: 0.9703\n",
      "Epoch 46/55\n",
      "1591/1591 [==============================] - 837s 526ms/step - loss: 0.0456 - accuracy: 0.9826 - top_5_accuracy: 0.9996 - val_loss: 0.2847 - val_accuracy: 0.9212 - val_top_5_accuracy: 0.9706\n",
      "Epoch 47/55\n",
      "1591/1591 [==============================] - 837s 526ms/step - loss: 0.0448 - accuracy: 0.9826 - top_5_accuracy: 0.9997 - val_loss: 0.6291 - val_accuracy: 0.9202 - val_top_5_accuracy: 0.9701\n",
      "Epoch 48/55\n",
      "1591/1591 [==============================] - 837s 526ms/step - loss: 0.0454 - accuracy: 0.9822 - top_5_accuracy: 0.9996 - val_loss: 0.6232 - val_accuracy: 0.9204 - val_top_5_accuracy: 0.9698\n",
      "Epoch 49/55\n",
      "1591/1591 [==============================] - 837s 526ms/step - loss: 0.0443 - accuracy: 0.9828 - top_5_accuracy: 0.9996 - val_loss: 0.6356 - val_accuracy: 0.9207 - val_top_5_accuracy: 0.9691\n",
      "Epoch 50/55\n",
      "1591/1591 [==============================] - 837s 526ms/step - loss: 0.0452 - accuracy: 0.9824 - top_5_accuracy: 0.9996 - val_loss: 0.2372 - val_accuracy: 0.9211 - val_top_5_accuracy: 0.9707\n",
      "Epoch 51/55\n",
      "1591/1591 [==============================] - 837s 526ms/step - loss: 0.0451 - accuracy: 0.9823 - top_5_accuracy: 0.9996 - val_loss: 0.4568 - val_accuracy: 0.9204 - val_top_5_accuracy: 0.9690\n",
      "Epoch 52/55\n",
      "1591/1591 [==============================] - 837s 526ms/step - loss: 0.0445 - accuracy: 0.9828 - top_5_accuracy: 0.9996 - val_loss: 0.5378 - val_accuracy: 0.9208 - val_top_5_accuracy: 0.9704\n",
      "Epoch 53/55\n",
      "1591/1591 [==============================] - 838s 527ms/step - loss: 0.0440 - accuracy: 0.9830 - top_5_accuracy: 0.9997 - val_loss: 0.3115 - val_accuracy: 0.9215 - val_top_5_accuracy: 0.9698\n",
      "Epoch 54/55\n",
      "1591/1591 [==============================] - 837s 526ms/step - loss: 0.0445 - accuracy: 0.9827 - top_5_accuracy: 0.9997 - val_loss: 0.1792 - val_accuracy: 0.9216 - val_top_5_accuracy: 0.9697\n",
      "Epoch 55/55\n",
      "1591/1591 [==============================] - 837s 526ms/step - loss: 0.0447 - accuracy: 0.9831 - top_5_accuracy: 0.9996 - val_loss: 0.3273 - val_accuracy: 0.9203 - val_top_5_accuracy: 0.9700\n"
     ]
    }
   ],
   "source": [
    "history = model.fit_generator(\n",
    "            train_generator,\n",
    "            steps_per_epoch=train_generator.n // training_config['batch_size'],\n",
    "            epochs=training_config['epochs'],\n",
    "            validation_data=validation_generator,\n",
    "            validation_steps=validation_generator.n // training_config['batch_size'],\n",
    "            callbacks=callbacks,\n",
    "            initial_epoch=current_epoch,\n",
    "            use_multiprocessing=True,\n",
    "            workers=8)"
   ]
  },
  {
   "cell_type": "markdown",
   "metadata": {},
   "source": [
    "### Analisando dados pós-treinamento"
   ]
  },
  {
   "cell_type": "code",
   "execution_count": 17,
   "metadata": {},
   "outputs": [],
   "source": [
    "import matplotlib.pyplot as plt\n",
    "%matplotlib inline"
   ]
  },
  {
   "cell_type": "code",
   "execution_count": 18,
   "metadata": {},
   "outputs": [
    {
     "data": {
      "image/png": "[encoded data removed]",
      "text/plain": [
       "<Figure size 432x288 with 1 Axes>"
      ]
     },
     "metadata": {
      "needs_background": "light"
     },
     "output_type": "display_data"
    },
    {
     "data": {
      "image/png": "[encoded data removed]",
      "text/plain": [
       "<Figure size 432x288 with 1 Axes>"
      ]
     },
     "metadata": {
      "needs_background": "light"
     },
     "output_type": "display_data"
    }
   ],
   "source": [
    "plt.plot(history.history['accuracy'])\n",
    "plt.plot(history.history['val_accuracy'])\n",
    "plt.title('model accuracy')\n",
    "plt.ylabel('accuracy')\n",
    "plt.xlabel('epoch')\n",
    "plt.legend(['train', 'test'], loc='upper left')\n",
    "plt.show()\n",
    "# summarize history for loss\n",
    "plt.plot(history.history['loss'])\n",
    "plt.plot(history.history['val_loss'])\n",
    "plt.title('model loss')\n",
    "plt.ylabel('loss')\n",
    "plt.xlabel('epoch')\n",
    "plt.legend(['train', 'test'], loc='upper left')\n",
    "plt.show()"
   ]
  },
  {
   "cell_type": "markdown",
   "metadata": {},
   "source": [
    "### Gerando matriz de confusão"
   ]
  },
  {
   "cell_type": "code",
   "execution_count": 26,
   "metadata": {
    "scrolled": true
   },
   "outputs": [
    {
     "name": "stdout",
     "output_type": "stream",
     "text": [
      "Confusion Matrix\n",
      "[[ 1  8  2 ...  0  5  0]\n",
      " [10 38 11 ...  0 24  1]\n",
      " [ 3 17  3 ...  1 17  0]\n",
      " ...\n",
      " [ 0  1  0 ...  0  0  0]\n",
      " [ 3 31  5 ...  1 18  0]\n",
      " [ 0  0  0 ...  0  0  0]]\n"
     ]
    }
   ],
   "source": [
    "import numpy as np\n",
    "from sklearn.metrics import classification_report, confusion_matrix\n",
    "Y_pred = model.predict_generator(validation_generator, validation_generator.n // training_config['batch_size']+1)\n",
    "y_pred = np.argmax(Y_pred, axis=1)\n",
    "print('Confusion Matrix')\n",
    "print(confusion_matrix(validation_generator.classes, y_pred))"
   ]
  },
  {
   "cell_type": "code",
   "execution_count": 43,
   "metadata": {},
   "outputs": [],
   "source": [
    "#print('Classification Report')\n",
    "#target_names = ['empty', 'resto dos animais']\n",
    "#print(classification_report(validation_generator.classes, y_pred, target_names=target_names))"
   ]
  },
  {
   "cell_type": "code",
   "execution_count": 32,
   "metadata": {},
   "outputs": [],
   "source": [
    "cm=confusion_matrix(validation_generator.classes, y_pred)"
   ]
  },
  {
   "cell_type": "code",
   "execution_count": 47,
   "metadata": {},
   "outputs": [],
   "source": [
    "#from mlxtend.plotting import plot_confusion_matrix\n",
    "#fig, ax = plot_confusion_matrix(conf_mat=cm ,  figsize=(10, 10))\n",
    "#plt.show()"
   ]
  },
  {
   "cell_type": "code",
   "execution_count": null,
   "metadata": {},
   "outputs": [],
   "source": []
  }
 ],
 "metadata": {
  "kernelspec": {
   "display_name": "Python 2",
   "language": "python",
   "name": "python2"
  },
  "language_info": {
   "codemirror_mode": {
    "name": "ipython",
    "version": 3
   },
   "file_extension": ".py",
   "mimetype": "text/x-python",
   "name": "python",
   "nbconvert_exporter": "python",
   "pygments_lexer": "ipython3",
   "version": "3.6.7"
  }
 },
 "nbformat": 4,
 "nbformat_minor": 4
}
