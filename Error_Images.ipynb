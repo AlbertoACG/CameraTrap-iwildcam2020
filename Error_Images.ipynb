{
 "cells": [
  {
   "cell_type": "code",
   "execution_count": 6,
   "metadata": {},
   "outputs": [],
   "source": [
    "import math\n",
    "\n",
    "import pandas as pd\n",
    "import json\n",
    "\n",
    "import matplotlib.pyplot as plt\n",
    "import matplotlib.image as mpimg\n",
    "import matplotlib.gridspec as gridspec\n",
    "import seaborn as sns\n",
    "\n",
    "from IPython.display import Image\n",
    "from shutil import copyfile\n",
    "\n",
    "%matplotlib inline"
   ]
  },
  {
   "cell_type": "code",
   "execution_count": 7,
   "metadata": {},
   "outputs": [],
   "source": [
    "def print_images(images_list):\n",
    "    \n",
    "    num_columns = 3.0;\n",
    "    num_rows = math.ceil(len(images_list) / num_columns)\n",
    "    fig = plt.figure(figsize=(16, 4*num_rows))\n",
    "    \n",
    "    for i in range(num_rows):\n",
    "        for j in range(int(num_columns)):\n",
    "            image_id = int(i*num_columns + j)\n",
    "            \n",
    "            if image_id < len(images_list):\n",
    "                img = mpimg.imread(images_list[image_id])\n",
    "                fig.add_subplot(num_rows, num_columns, image_id + 1)\n",
    "                plt.axis('off')\n",
    "                plt.imshow(img)\n",
    "    \n",
    "    plt.subplots_adjust(wspace=0.05, hspace=0)\n"
   ]
  },
  {
   "cell_type": "code",
   "execution_count": 8,
   "metadata": {},
   "outputs": [],
   "source": [
    "images_train_path = '/data/alberto/iWildCam2020/data/train/'\n",
    "images_train_error = '/data/alberto/iWildCam2020/data/train_with_error/'"
   ]
  },
  {
   "cell_type": "code",
   "execution_count": 9,
   "metadata": {},
   "outputs": [],
   "source": [
    "error_list = ['98bd006c-21bc-11ea-a13a-137349068a90.jpg',\n",
    "'883572ba-21bc-11ea-a13a-137349068a90.jpg',\n",
    "'9799f64a-21bc-11ea-a13a-137349068a90.jpg',\n",
    "'8e0c091a-21bc-11ea-a13a-137349068a90.jpg',\n",
    "'9631e6a0-21bc-11ea-a13a-137349068a90.jpg',\n",
    "'8f17b296-21bc-11ea-a13a-137349068a90.jpg',\n",
    "'99136aa6-21bc-11ea-a13a-137349068a90.jpg',\n",
    "'8c53e822-21bc-11ea-a13a-137349068a90.jpg',\n",
    "'91ba7b50-21bc-11ea-a13a-137349068a90.jpg',\n",
    "'87022118-21bc-11ea-a13a-137349068a90.jpg',\n",
    "'896c1198-21bc-11ea-a13a-137349068a90.jpg',\n",
    "'94860606-21bc-11ea-a13a-137349068a90.jpg',\n",
    "'9166fbd8-21bc-11ea-a13a-137349068a90.jpg',\n",
    "'929da9de-21bc-11ea-a13a-137349068a90.jpg',\n",
    "'8c3a31fc-21bc-11ea-a13a-137349068a90.jpg',\n",
    "'88313344-21bc-11ea-a13a-137349068a90.jpg',\n",
    "'88007592-21bc-11ea-a13a-137349068a90.jpg',\n",
    "'911848a8-21bc-11ea-a13a-137349068a90.jpg',\n",
    "'8792549a-21bc-11ea-a13a-137349068a90.jpg']"
   ]
  },
  {
   "cell_type": "code",
   "execution_count": 10,
   "metadata": {},
   "outputs": [],
   "source": [
    "for image in error_list:\n",
    "    origin_file = images_train_path + image\n",
    "    target_file = images_train_error + image\n",
    "    \n",
    "    copyfile(origin_file, target_file)"
   ]
  }
 ],
 "metadata": {
  "kernelspec": {
   "display_name": "Python 3",
   "language": "python",
   "name": "python3"
  },
  "language_info": {
   "codemirror_mode": {
    "name": "ipython",
    "version": 3
   },
   "file_extension": ".py",
   "mimetype": "text/x-python",
   "name": "python",
   "nbconvert_exporter": "python",
   "pygments_lexer": "ipython3",
   "version": "3.6.7"
  }
 },
 "nbformat": 4,
 "nbformat_minor": 4
}
