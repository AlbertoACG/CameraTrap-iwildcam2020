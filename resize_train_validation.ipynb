{
 "cells": [
  {
   "cell_type": "code",
   "execution_count": 4,
   "metadata": {},
   "outputs": [],
   "source": [
    "from utils.dataset_utils import resize_images"
   ]
  },
  {
   "cell_type": "code",
   "execution_count": 5,
   "metadata": {},
   "outputs": [],
   "source": [
    "ORIGIN_PATH='/data/alberto/iWildCam2020/iwild205/train'\n",
    "TARGET_PATH='/data/alberto/iWildCam2020/resized/train_resized'"
   ]
  },
  {
   "cell_type": "code",
   "execution_count": 6,
   "metadata": {},
   "outputs": [
    {
     "name": "stdout",
     "output_type": "stream",
     "text": [
      "error:  empty/911848a8-21bc-11ea-a13a-137349068a90.jpg\n",
      "error:  empty/87022118-21bc-11ea-a13a-137349068a90.jpg\n",
      "error:  empty/8e0c091a-21bc-11ea-a13a-137349068a90.jpg\n",
      "error:  empty/8792549a-21bc-11ea-a13a-137349068a90.jpg\n",
      "error:  empty/99136aa6-21bc-11ea-a13a-137349068a90.jpg\n",
      "error:  empty/88007592-21bc-11ea-a13a-137349068a90.jpg\n",
      "error:  empty/9799f64a-21bc-11ea-a13a-137349068a90.jpg\n",
      "error:  empty/9166fbd8-21bc-11ea-a13a-137349068a90.jpg\n",
      "error:  empty/94860606-21bc-11ea-a13a-137349068a90.jpg\n",
      "error:  empty/883572ba-21bc-11ea-a13a-137349068a90.jpg\n",
      "error:  empty/8c3a31fc-21bc-11ea-a13a-137349068a90.jpg\n",
      "error:  empty/88313344-21bc-11ea-a13a-137349068a90.jpg\n",
      "error:  empty/8c53e822-21bc-11ea-a13a-137349068a90.jpg\n",
      "error:  empty/9631e6a0-21bc-11ea-a13a-137349068a90.jpg\n",
      "error:  empty/896c1198-21bc-11ea-a13a-137349068a90.jpg\n",
      "error:  empty/929da9de-21bc-11ea-a13a-137349068a90.jpg\n",
      "error:  empty/8f17b296-21bc-11ea-a13a-137349068a90.jpg\n",
      "error:  empty/91ba7b50-21bc-11ea-a13a-137349068a90.jpg\n",
      "error:  empty/98bd006c-21bc-11ea-a13a-137349068a90.jpg\n"
     ]
    }
   ],
   "source": [
    "resize_images(ORIGIN_PATH, TARGET_PATH)"
   ]
  },
  {
   "cell_type": "code",
   "execution_count": 7,
   "metadata": {},
   "outputs": [],
   "source": [
    "ORIGIN_PATH='/data/alberto/iWildCam2020/iwild205/validation'\n",
    "TARGET_PATH='/data/alberto/iWildCam2020/resized/validation_resized'"
   ]
  },
  {
   "cell_type": "code",
   "execution_count": 8,
   "metadata": {},
   "outputs": [
    {
     "name": "stdout",
     "output_type": "stream",
     "text": [
      "error:  empty/87022118-21bc-11ea-a13a-137349068a90.jpg\n",
      "error:  empty/8e0c091a-21bc-11ea-a13a-137349068a90.jpg\n",
      "error:  empty/8792549a-21bc-11ea-a13a-137349068a90.jpg\n",
      "error:  empty/99136aa6-21bc-11ea-a13a-137349068a90.jpg\n",
      "error:  empty/883572ba-21bc-11ea-a13a-137349068a90.jpg\n",
      "error:  empty/8c3a31fc-21bc-11ea-a13a-137349068a90.jpg\n",
      "error:  empty/896c1198-21bc-11ea-a13a-137349068a90.jpg\n",
      "error:  empty/8f17b296-21bc-11ea-a13a-137349068a90.jpg\n"
     ]
    }
   ],
   "source": [
    "resize_images(ORIGIN_PATH, TARGET_PATH)"
   ]
  },
  {
   "cell_type": "code",
   "execution_count": null,
   "metadata": {},
   "outputs": [],
   "source": []
  }
 ],
 "metadata": {
  "kernelspec": {
   "display_name": "Python 3",
   "language": "python",
   "name": "python3"
  },
  "language_info": {
   "codemirror_mode": {
    "name": "ipython",
    "version": 3
   },
   "file_extension": ".py",
   "mimetype": "text/x-python",
   "name": "python",
   "nbconvert_exporter": "python",
   "pygments_lexer": "ipython3",
   "version": "3.6.7"
  }
 },
 "nbformat": 4,
 "nbformat_minor": 4
}
